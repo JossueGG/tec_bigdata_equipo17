{
  "nbformat": 4,
  "nbformat_minor": 0,
  "metadata": {
    "colab": {
      "provenance": []
    },
    "kernelspec": {
      "name": "python3",
      "display_name": "Python 3"
    },
    "language_info": {
      "name": "python"
    }
  },
  "cells": [
    {
      "cell_type": "code",
      "execution_count": 31,
      "metadata": {
        "colab": {
          "base_uri": "https://localhost:8080/"
        },
        "id": "XlJ2MCRlijH4",
        "outputId": "7071599d-024b-4d1f-a137-ebfaf898d028"
      },
      "outputs": [
        {
          "output_type": "stream",
          "name": "stdout",
          "text": [
            "Top recomendaciones para el usuario: 1\n",
            "1. The African Queen (ID: 969)\n",
            "2. Monty Python and the Holy Grail (ID: 1136)\n",
            "3. Cinema Paradiso (ID: 1172)\n",
            "4. Chinatown (ID: 1252)\n",
            "5. Amélie (ID: 4973)\n",
            "\n",
            "\n",
            "\n",
            "Evaluación del modelo:\n",
            "Evaluating RMSE, MAE of algorithm SVD on 5 split(s).\n",
            "\n",
            "                  Fold 1  Fold 2  Fold 3  Fold 4  Fold 5  Mean    Std     \n",
            "RMSE (testset)    0.8941  0.8912  0.8973  0.9082  0.8952  0.8972  0.0058  \n",
            "MAE (testset)     0.6895  0.6838  0.6924  0.6988  0.6888  0.6907  0.0049  \n",
            "Fit time          1.84    1.90    2.23    1.82    1.86    1.93    0.15    \n",
            "Test time         0.12    0.43    0.13    0.27    0.23    0.24    0.11    \n"
          ]
        }
      ],
      "source": [
        "#!pip install scikit-surprise\n",
        "import pandas as pd\n",
        "from surprise import Dataset, Reader, SVD\n",
        "from surprise.model_selection import cross_validate\n",
        "\n",
        "###############################################################################\n",
        "# pemalink: https://github.com/JossueGG/tec_bigdata_equipo17/blob/30ae4d31c8f6bf2b6be5bf47f2294a16199b19c4/ratings_small.csv\n",
        "\n",
        "# URL del archivo CSV en git o un contenedor\n",
        "url = 'https://raw.githubusercontent.com/JossueGG/tec_bigdata_equipo17/30ae4d31c8f6bf2b6be5bf47f2294a16199b19c4/ratings_small.csv?token=GHSAT0AAAAAACSA6SWLVU4K6DI23MDJXKEGZR6R7OQ'\n",
        "\n",
        "# Rango de las calificaciones\n",
        "reader = Reader(rating_scale=(1, 5))\n",
        "\n",
        "# Número de recomendaciones a desplegar\n",
        "rec = 5\n",
        "\n",
        "###############################################################################\n",
        "\n",
        "# Cargar los datos desde la URL\n",
        "df = pd.read_csv(url)\n",
        "\n",
        "# Crear un Dataset de Surprise\n",
        "data = Dataset.load_from_df(df[['userId', 'movieId', 'rating']], reader)\n",
        "\n",
        "# Entrenar el modelo SVD\n",
        "trainset = data.build_full_trainset()\n",
        "model = SVD()\n",
        "model.fit(trainset)\n",
        "\n",
        "# Obtener el nombre de la película a partir de su ID\n",
        "movie_titles = df[['movieId', 'title']].drop_duplicates().set_index('movieId')['title'].to_dict()\n",
        "\n",
        "# Función para obtener las mejores recomendaciones para un usuario dado\n",
        "def get_top_recommendations(user_id, n=rec):\n",
        "    items = []\n",
        "    # Obtener todos los ítems que el usuario no ha calificado\n",
        "    items_not_rated_by_user = [item for item in range(1, trainset.n_items + 1)\n",
        "                               if item not in trainset.ur[user_id]]\n",
        "    # Obtener la predicción de calificación para cada ítem no calificado\n",
        "    for item_id in items_not_rated_by_user:\n",
        "        predicted_rating = model.predict(user_id, item_id).est\n",
        "        items.append((item_id, predicted_rating))\n",
        "    # Ordenar las predicciones y devolver las mejores n recomendaciones\n",
        "    top_items = sorted(items, key=lambda x: x[1], reverse=True)[:n]\n",
        "    return [(item[0], movie_titles[item[0]]) for item in top_items]\n",
        "\n",
        "\n",
        "###############################################################################\n",
        "# Ejemplo de uso, recomendación para el usuario dado\n",
        "###############################################################################\n",
        "user_id = 1\n",
        "top_recommendations = get_top_recommendations(user_id)\n",
        "print(\"Top recomendaciones para el usuario:\", user_id)\n",
        "for rank, (movie_id, title) in enumerate(top_recommendations, 1):\n",
        "    print(f\"{rank}. {title} (ID: {movie_id})\")\n",
        "\n",
        "# Evaluar el modelo con 5-fold cross-validation\n",
        "print(\"\\n\\n\\nEvaluación del modelo:\")\n",
        "results = cross_validate(model, data, measures=['RMSE', 'MAE'], cv=5, verbose=True)"
      ]
    }
  ]
}