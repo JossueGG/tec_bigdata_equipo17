{
 "cells": [
  {
   "cell_type": "markdown",
   "metadata": {},
   "source": [
    "## Parte 3: Construyendo un Sistema de Recomendacion con Feedback Implicito\n",
    "\n",
    "En este ejercicio, desarrollaremos un sistema de recomendacion con feedback implicito utilizando la libreria     [implicit](https://github.com/benfred/implicit).\n",
    "\n",
    "**Pero, a que nos referimos con feedback implicito?**\n",
    "\n",
    "En el primer ejercicio abordamos el filtro colaborativo el cual se basa en la suposicion de que `usuarios similares gustan de las mismas cosas/items`. La matriz usuario-item, o \"matriz de utilidad\" es la piedra angular del filtrado colaborativo. En la matriz de utilidad las filas representan a los usuarios y las columnas representan a los items.\n",
    "\n",
    "\n",
    "\n",
    "Las celdas de la matriz se llenan a partir del grado de preferencia de un usuario a un item determinado y esto se representa en cualquiera de las dos formas:\n",
    "1. **Feedback explicito:** feedback directo hacia un item (por ejemplo el rating de una pelicula como lo vimos en el [Ejercicio 1](https://experiencia21.tec.mx/courses/481176/assignments/15386625?module_item_id=28379086))\n",
    "\n",
    "2. **Feedback implicito:** comportamiento indirecto hacia un item (por ejemplo el historial de compra, el historial de navegacion o historial de busquedas)\n",
    "\n",
    "El feedback implicito hace suposiciones sobre las preferencias del usuario a partir de las acciones hacia dichos items. Si retomamos el ejemplo si miraste todos los episodios de un show y viste todas las temporadas en una semana, entonces existe la elevada posibilidad de que te guste ese show. Sin embargo, si empiezas a mirar una serie y te detienes a la mitad del primer episodio, entonces es probable que se pueda asumir que no te haya gustado ese show.\n",
    "\n"
   ]
  },
  {
   "cell_type": "markdown",
   "metadata": {},
   "source": [
    "### Paso 1: Agregando las Librerias\n",
    "\n",
    "Estos seran las librerias que utilizaremos:\n",
    "\n",
    "- [numpy](https://numpy.org/)\n",
    "- [pandas](https://pandas.pydata.org/)\n",
    "- [implicit](https://github.com/benfred/implicit)\n",
    "- scipy (en especifico la clase **csr_matrix**)"
   ]
  },
  {
   "cell_type": "code",
   "execution_count": 1,
   "metadata": {},
   "outputs": [],
   "source": [
    "import numpy as np\n",
    "import pandas as pd\n",
    "from scipy.sparse import csr_matrix\n",
    "\n",
    "import implicit\n",
    "\n",
    "import warnings\n",
    "warnings.simplefilter(action='ignore', category=FutureWarning)"
   ]
  },
  {
   "cell_type": "markdown",
   "metadata": {},
   "source": [
    "### Paso 2: Cargando los datos\n",
    "\n",
    "Dado que ya te has familiarizado con el dataset de MovieLens de los ejercicios 1 y 2 en este ejercicio continuaremos utilizando este dataset que puede encontrar[aqui](https://grouplens.org/datasets/movielens/), o lo puedes descargar directamente de [aqui](http://files.grouplens.org/datasets/movielens/ml-latest-small.zip). (Recuerda que estamos trabajando con los datasets `ml-latest-small.zip` )\n"
   ]
  },
  {
   "cell_type": "code",
   "execution_count": 2,
   "metadata": {},
   "outputs": [],
   "source": [
    "#ratings = pd.read_csv(\"datos/ratings.csv\")\n",
    "#movies = pd.read_csv(\"datos/movies.csv\").drop_duplicates(keep=\"last\", subset=['title'])\n",
    "\n",
    "# URL del archivo CSV\n",
    "data_url = \"https://raw.githubusercontent.com/JossueGG/tec_bigdata_equipo17/main/ratings_small_entrega2.csv\"\n",
    "\n",
    "# Cargar los datos desde la URL\n",
    "df = pd.read_csv(data_url)"
   ]
  },
  {
   "cell_type": "markdown",
   "metadata": {},
   "source": [
    "Revisamos el contenido de ratings"
   ]
  },
  {
   "cell_type": "code",
   "execution_count": 3,
   "metadata": {},
   "outputs": [
    {
     "data": {
      "text/html": [
       "<div>\n",
       "<style scoped>\n",
       "    .dataframe tbody tr th:only-of-type {\n",
       "        vertical-align: middle;\n",
       "    }\n",
       "\n",
       "    .dataframe tbody tr th {\n",
       "        vertical-align: top;\n",
       "    }\n",
       "\n",
       "    .dataframe thead th {\n",
       "        text-align: right;\n",
       "    }\n",
       "</style>\n",
       "<table border=\"1\" class=\"dataframe\">\n",
       "  <thead>\n",
       "    <tr style=\"text-align: right;\">\n",
       "      <th></th>\n",
       "      <th>userId</th>\n",
       "      <th>movieId</th>\n",
       "      <th>rating</th>\n",
       "      <th>timestamp</th>\n",
       "      <th>title</th>\n",
       "      <th>genres</th>\n",
       "      <th>release_date</th>\n",
       "      <th>year</th>\n",
       "    </tr>\n",
       "  </thead>\n",
       "  <tbody>\n",
       "    <tr>\n",
       "      <th>0</th>\n",
       "      <td>1</td>\n",
       "      <td>2294</td>\n",
       "      <td>2.0</td>\n",
       "      <td>1260759108</td>\n",
       "      <td>Antz</td>\n",
       "      <td>[{'id': 12, 'name': 'Adventure'}, {'id': 16, '...</td>\n",
       "      <td>02/10/1998</td>\n",
       "      <td>1998</td>\n",
       "    </tr>\n",
       "    <tr>\n",
       "      <th>1</th>\n",
       "      <td>1</td>\n",
       "      <td>1405</td>\n",
       "      <td>1.0</td>\n",
       "      <td>1260759203</td>\n",
       "      <td>Beavis and Butt-Head Do America</td>\n",
       "      <td>[{'id': 16, 'name': 'Animation'}, {'id': 35, '...</td>\n",
       "      <td>15/12/1996</td>\n",
       "      <td>1996</td>\n",
       "    </tr>\n",
       "    <tr>\n",
       "      <th>2</th>\n",
       "      <td>1</td>\n",
       "      <td>1287</td>\n",
       "      <td>2.0</td>\n",
       "      <td>1260759187</td>\n",
       "      <td>Ben-Hur</td>\n",
       "      <td>[{'id': 28, 'name': 'Action'}, {'id': 12, 'nam...</td>\n",
       "      <td>26/12/1959</td>\n",
       "      <td>1959</td>\n",
       "    </tr>\n",
       "    <tr>\n",
       "      <th>3</th>\n",
       "      <td>1</td>\n",
       "      <td>3671</td>\n",
       "      <td>3.0</td>\n",
       "      <td>1260759117</td>\n",
       "      <td>Blazing Saddles</td>\n",
       "      <td>[{'id': 37, 'name': 'Western'}, {'id': 35, 'na...</td>\n",
       "      <td>07/02/1974</td>\n",
       "      <td>1974</td>\n",
       "    </tr>\n",
       "    <tr>\n",
       "      <th>4</th>\n",
       "      <td>1</td>\n",
       "      <td>1343</td>\n",
       "      <td>2.0</td>\n",
       "      <td>1260759131</td>\n",
       "      <td>Cape Fear</td>\n",
       "      <td>[{'id': 80, 'name': 'Crime'}, {'id': 53, 'name...</td>\n",
       "      <td>15/11/1991</td>\n",
       "      <td>1991</td>\n",
       "    </tr>\n",
       "  </tbody>\n",
       "</table>\n",
       "</div>"
      ],
      "text/plain": [
       "   userId  movieId  rating   timestamp                            title  \\\n",
       "0       1     2294     2.0  1260759108                             Antz   \n",
       "1       1     1405     1.0  1260759203  Beavis and Butt-Head Do America   \n",
       "2       1     1287     2.0  1260759187                          Ben-Hur   \n",
       "3       1     3671     3.0  1260759117                  Blazing Saddles   \n",
       "4       1     1343     2.0  1260759131                        Cape Fear   \n",
       "\n",
       "                                              genres release_date  year  \n",
       "0  [{'id': 12, 'name': 'Adventure'}, {'id': 16, '...   02/10/1998  1998  \n",
       "1  [{'id': 16, 'name': 'Animation'}, {'id': 35, '...   15/12/1996  1996  \n",
       "2  [{'id': 28, 'name': 'Action'}, {'id': 12, 'nam...   26/12/1959  1959  \n",
       "3  [{'id': 37, 'name': 'Western'}, {'id': 35, 'na...   07/02/1974  1974  \n",
       "4  [{'id': 80, 'name': 'Crime'}, {'id': 53, 'name...   15/11/1991  1991  "
      ]
     },
     "execution_count": 3,
     "metadata": {},
     "output_type": "execute_result"
    }
   ],
   "source": [
    "df.head()"
   ]
  },
  {
   "cell_type": "markdown",
   "metadata": {},
   "source": [
    "En este ejercicio, definiremos el rating de las peliculas como el numero de veces que un usuario las ha mirado. Por ejemplo, si Jimena (una usuaria en nuestro dataset) le dio a la pelicula de`Batman` un rating de 1 y a `Jurassic Park` un rating de 5, podemos asumir que ha mirado la pelicula de Batman una vez y la de Jurassic Park un total de 5 veces."
   ]
  },
  {
   "cell_type": "markdown",
   "metadata": {},
   "source": [
    "### NOTA ###\n",
    "\n",
    "Es necesario realizar una limpieza del dataset antes de proceder con el ejercicio pues contiene registros duplicados que arrojaran un problema en el numero de registros de los titulos de las peliculas. \n",
    "\n",
    "Para lo cual es necesario eliminar duplicados que contiene el dataset de peliculas y proceder con el ejercicio"
   ]
  },
  {
   "cell_type": "markdown",
   "metadata": {},
   "source": [
    "### Paso 3: Transformando los datos\n",
    "\n",
    "Tal y como lo hicimos en el [Ejercicio 1](https://experiencia21.tec.mx/courses/481176/assignments/15386625?module_item_id=28379086), necesitamos transformar el dataframe de `ratings` a una matriz usuario-item donde las filas representan a los usuarios y las columnas representan a las peliculas. Las celdas en esta matriz contendran el feedback implicito que en este caso es el numero de veces que un usuario ha visto una pelicula.\n",
    "\n",
    "La funcion  `create_X()` crea una matriz de dispersion **X** con 4 diccionarios de mapeo:\n",
    "\n",
    "- **user_mapper:** mapea user id al user index\n",
    "- **movie_mapper:** mapea movie id al movie index\n",
    "- **user_inv_mapper:** mapea user index al user id\n",
    "- **movie_inv_mapper:** mapea movie index al movie id\n",
    "\n",
    "Necesitamos estos diccionario por que hay que mapear las filas y columnas con la matriz de utilidad que les corresponde al user ID con su movie ID respectivamente.\n",
    "\n",
    "Esta matriz dispersa **usuario-item** es una matriz que se obtiene al `usar scipy.sparse.csr_matrix`que almacena los datos de una manera dispersa."
   ]
  },
  {
   "cell_type": "code",
   "execution_count": 4,
   "metadata": {},
   "outputs": [],
   "source": [
    "def create_X(df: pd.DataFrame):\n",
    "    \"\"\"\n",
    "    Generates a sparse matrix from ratings dataframe.\n",
    "    \n",
    "    Args:\n",
    "        df: pandas dataframe\n",
    "    \n",
    "    Returns:\n",
    "        X: sparse matrix\n",
    "        user_mapper: dict that maps user id's to user indices\n",
    "        user_inv_mapper: dict that maps user indices to user id's\n",
    "        movie_mapper: dict that maps movie id's to movie indices\n",
    "        movie_inv_mapper: dict that maps movie indices to movie id's\n",
    "    \"\"\"\n",
    "    N = df['userId'].nunique()\n",
    "    M = df['movieId'].nunique()\n",
    "\n",
    "    user_mapper = dict(zip(np.unique(df[\"userId\"]), list(range(N))))\n",
    "    movie_mapper = dict(zip(np.unique(df[\"movieId\"]), list(range(M))))\n",
    "    \n",
    "    user_inv_mapper = dict(zip(list(range(N)), np.unique(df[\"userId\"])))\n",
    "    movie_inv_mapper = dict(zip(list(range(M)), np.unique(df[\"movieId\"])))\n",
    "    \n",
    "    user_index = [user_mapper[i] for i in df['userId']]\n",
    "    movie_index = [movie_mapper[i] for i in df['movieId']]\n",
    "\n",
    "    X = csr_matrix((df[\"rating\"], (movie_index, user_index)), shape=(M, N))\n",
    "    \n",
    "    return X, user_mapper, movie_mapper, user_inv_mapper, movie_inv_mapper"
   ]
  },
  {
   "cell_type": "code",
   "execution_count": 6,
   "metadata": {},
   "outputs": [],
   "source": [
    "X, user_mapper, movie_mapper, user_inv_mapper, movie_inv_mapper = create_X(df)"
   ]
  },
  {
   "cell_type": "markdown",
   "metadata": {},
   "source": [
    "### Creando los Mapeos de los titulos de las peliculas\n",
    "\n",
    "Necesitamos traducir el titulo de una pelicula a partir de su indice en la matriz usuario-item y vice versa. Vamos a crear dos funciones que nos ayuden con esta traduccion.\n",
    "\n",
    "- `get_movie_index()` - convierte el titulo de una pelicula a su indice. Hace uso de la funcion de comparacion de strings que se le pasan a [fuzzywuzzy](https://github.com/seatgeek/fuzzywuzzy) \n",
    " para obtener el titulo de una pelicula que se le pase. Esto significa que no necesitamos saber la forma de escribir o el formato de una pelicula para obtener su indice.\n",
    "\n",
    "- `get_movie_title()` - convierte el indice de una pelicula a su titulo."
   ]
  },
  {
   "cell_type": "code",
   "execution_count": 8,
   "metadata": {},
   "outputs": [],
   "source": [
    "from fuzzywuzzy import process\n",
    "\n",
    "def movie_finder(title):\n",
    "    all_titles = df['title'].tolist()\n",
    "    closest_match = process.extractOne(title,all_titles)\n",
    "    return closest_match[0]\n",
    "\n",
    "movie_title_mapper = dict(zip(df['title'], df['movieId']))\n",
    "movie_title_inv_mapper = dict(zip(df['movieId'], df['title']))\n",
    "\n",
    "def get_movie_index(title):\n",
    "    fuzzy_title = movie_finder(title)\n",
    "    movie_id = movie_title_mapper[fuzzy_title]\n",
    "    movie_idx = movie_mapper[movie_id]\n",
    "    return movie_idx\n",
    "\n",
    "def get_movie_title(movie_idx): \n",
    "    movie_id = movie_inv_mapper[movie_idx]\n",
    "    title = movie_title_inv_mapper[movie_id]\n",
    "    return title "
   ]
  },
  {
   "cell_type": "markdown",
   "metadata": {},
   "source": [
    "Vamos a probar esta funcion para obtener el indice de `Jurassic Park`. "
   ]
  },
  {
   "cell_type": "code",
   "execution_count": 9,
   "metadata": {},
   "outputs": [
    {
     "data": {
      "text/plain": [
       "427"
      ]
     },
     "execution_count": 9,
     "metadata": {},
     "output_type": "execute_result"
    }
   ],
   "source": [
    "get_movie_index('Jurasc prk')"
   ]
  },
  {
   "cell_type": "markdown",
   "metadata": {},
   "source": [
    "Utilizemos el indice obtenido con la funcion `get_movie_title()`. Tendremos que obtener el titulo de Jurassic Park."
   ]
  },
  {
   "cell_type": "code",
   "execution_count": 10,
   "metadata": {},
   "outputs": [
    {
     "data": {
      "text/plain": [
       "'Jurassic Park'"
      ]
     },
     "execution_count": 10,
     "metadata": {},
     "output_type": "execute_result"
    }
   ],
   "source": [
    "get_movie_title(427)"
   ]
  },
  {
   "cell_type": "markdown",
   "metadata": {},
   "source": [
    "Con esto podemos comprobar que las funciones nos permitiran interpretar las recomendaciones obtenidas del sistema."
   ]
  },
  {
   "cell_type": "markdown",
   "metadata": {},
   "source": [
    "### Paso 4: Construyendo el modelo de modelo de Recomendacion de Feedback Implicito\n",
    "\n",
    "Una vez que hemos transformado nuestros datos ahora si podemos empezar a construir nuestro modelo de recomendacion.\n",
    "\n",
    "\n",
    "La libreria [implicit](https://github.com/benfred/implicit) esta basada en un factorizacion de matrices (tomado del algebra lineal). Esto nos permite hallar caracteristicas\n",
    "latentes que se esconden en las interacciones entre los usuarios y las peliculas. Estas caracteristicas latentes nos brindan una representacion mas compacta de los gustos\n",
    "de los usuarios y la descripcion de un item. La factorizacion matricial es particularmente util para datos muy dispersos y puede mejorar la calidad de las recomendaciones\n",
    "obtenidas. El algoritmo opera al factorizar la matris usuario-item en dos matrices:\n",
    "\n",
    "- matriz usuario-factorers  (n_users, k)\n",
    "- matriz item-factorers     (k, n_items)\n",
    "\n",
    "Reduciremos las dimensiones de nuestra matriz original a nuestras dimensiones particulares. No es posible interpretar cada caracteristica latente $k$. Sin embargo,\n",
    "podemos suponer que una caracteristica latente puede representar a los usuarios que gusten de comedia romantica de los 90s, mientras que otra caracteristica lantente\n",
    "puede representar a peliculas independientes extranjeras.\n",
    "\n",
    "\n",
    "$$X_{mn} \\approx P_{mk} \\times Q_{nk}^T = \\hat{X}$$\n",
    "\n",
    "\n",
    "\n",
    "En el caso de una factorizacion matricial tradicional como [SVD](https://www.freecodecamp.org/news/singular-value-decomposition-vs-matrix-factorization-in-recommender-systems-b1e99bc73599/) lo que hariamos seria intentar resolver la factorizacion de una sola vez, sin embargo esto resultaria muy costoso computacionalmente. Otra forma de atacar este problem es utilizando una tecnica denominada\n",
    "[Minimos Cuadrados Alternos, Alternating Least Squares (ALS)](https://sophwats.github.io/2018-04-05-gentle-als.html). Ocupando ALS, podemos resolver una matriz de factores a la vez:\n",
    "\n",
    "- Paso 1: Fijamos la matriz de factores de usuario (user-factor) y resolvemos la matriz de factores de elementos (item-factor)\n",
    "- Paso 2: Fijamos la matriz de factores de elementos (item-factor) y resolvemos la matriz de factores de usuario (user-factor)\n",
    "\n",
    "Al alternar los pasos 1 y 2 hasta que el producto punto de la matriz de factores de elementos (item-factor) y la matriz de factores de usuarios (user-item) es aproximadamente igual a la matrix original X (user-item). Este procedimiento es comptacionalmente menos costoso y puede ser parelelizado.\n",
    "\n",
    "La libreria `implicit` implementa una factorizacion matricial utilizando ALS (puedes consultar los detalles [aqui](https://implicit.readthedocs.io/en/latest/als.html))"
   ]
  },
  {
   "cell_type": "code",
   "execution_count": 11,
   "metadata": {},
   "outputs": [
    {
     "name": "stderr",
     "output_type": "stream",
     "text": [
      "C:\\Users\\AMUNGUIA\\AppData\\Local\\Continuum\\anaconda3\\lib\\site-packages\\implicit\\cpu\\als.py:95: RuntimeWarning: OpenBLAS is configured to use 4 threads. It is highly recommended to disable its internal threadpool by setting the environment variable 'OPENBLAS_NUM_THREADS=1' or by calling 'threadpoolctl.threadpool_limits(1, \"blas\")'. Having OpenBLAS use a threadpool can lead to severe performance issues here.\n",
      "  check_blas_config()\n",
      "C:\\Users\\AMUNGUIA\\AppData\\Local\\Continuum\\anaconda3\\lib\\site-packages\\implicit\\cpu\\als.py:95: RuntimeWarning: Intel MKL BLAS is configured to use 2 threads. It is highly recommended to disable its internal threadpool by setting the environment variable 'MKL_NUM_THREADS=1' or by callng 'threadpoolctl.threadpool_limits(1, \"blas\")'. Having MKL use a threadpool can lead to severe performance issues\n",
      "  check_blas_config()\n"
     ]
    }
   ],
   "source": [
    "model = implicit.als.AlternatingLeastSquares(factors=50)"
   ]
  },
  {
   "cell_type": "markdown",
   "metadata": {},
   "source": [
    "Este modelo viene con algunos hyperparametros que deben ser ajustados para generar resultados optimos:\n",
    "\n",
    "- los factores ($k$): numero de factores latentes,\n",
    "- regularizacion ($\\lambda$): evita que el modelo caiga en overfitting durante el entrenamiento\n",
    "\n",
    "Para este ejercicio definiremos $k = 50$ y $\\lambda = 0.01$ como los valores a utilizar. \n",
    "\n",
    "El siguiente paso ahora es ajustar nuestro modelo a la matriz user-item.\n"
   ]
  },
  {
   "cell_type": "code",
   "execution_count": 12,
   "metadata": {},
   "outputs": [
    {
     "data": {
      "application/vnd.jupyter.widget-view+json": {
       "model_id": "abd086fdab084d36ac429d8fda444dd4",
       "version_major": 2,
       "version_minor": 0
      },
      "text/plain": [
       "  0%|          | 0/15 [00:00<?, ?it/s]"
      ]
     },
     "metadata": {},
     "output_type": "display_data"
    }
   ],
   "source": [
    "model.fit(X.T.tocsr())"
   ]
  },
  {
   "cell_type": "markdown",
   "metadata": {},
   "source": [
    "\n",
    "Ahora pongamos a prueba las recomendaciones de nuestro modelo. Podemos utilizar el metodo `similar_items()` que nos muestra las peliculas mas relevantes dada una pelicula en especifico. De igual forma, podemos utilizar la funcion `get_movie_index()` para obtener el indice de la pelicula si es que es una pelicula que nos interesa a partir de las recomendaciones obtenidas."
   ]
  },
  {
   "cell_type": "code",
   "execution_count": 13,
   "metadata": {},
   "outputs": [
    {
     "data": {
      "text/plain": [
       "(array([321, 100, 427, 472, 525, 284, 266, 522, 328, 521]),\n",
       " array([1.0000001 , 0.7897375 , 0.77727455, 0.7719147 , 0.758106  ,\n",
       "        0.7355936 , 0.70683116, 0.6684458 , 0.66388416, 0.60543776],\n",
       "       dtype=float32))"
      ]
     },
     "execution_count": 13,
     "metadata": {},
     "output_type": "execute_result"
    }
   ],
   "source": [
    "movie_of_interest = 'forrest gump'\n",
    "\n",
    "movie_index = get_movie_index(movie_of_interest)\n",
    "related = model.similar_items(movie_index)\n",
    "related"
   ]
  },
  {
   "cell_type": "markdown",
   "metadata": {},
   "source": [
    "Lo que obtenemos de `similar_items()` no es facil de leer por lo que necesitamos de la funcion `get_movie_title()` para interpretar los resultados."
   ]
  },
  {
   "cell_type": "code",
   "execution_count": 14,
   "metadata": {},
   "outputs": [
    {
     "name": "stdout",
     "output_type": "stream",
     "text": [
      "Por que miraste la pelicula de Forrest Gump te pueden interesar las siguientes peliculas:\n",
      "Braveheart\n",
      "Jurassic Park\n",
      "Schindler's List\n",
      "The Silence of the Lambs\n",
      "The Shawshank Redemption\n",
      "Pulp Fiction\n",
      "Terminator 2: Judgment Day\n",
      "The Lion King\n",
      "Aladdin\n"
     ]
    }
   ],
   "source": [
    "print(f\"Por que miraste la pelicula de {movie_finder(movie_of_interest)} te pueden interesar las siguientes peliculas:\")\n",
    "for t, r in zip(related[0], related[1]):\n",
    "    \n",
    "    recommended_title = get_movie_title(t)\n",
    "    if recommended_title != movie_finder(movie_of_interest):\n",
    "        print(recommended_title)\n",
    "\n"
   ]
  },
  {
   "cell_type": "markdown",
   "metadata": {},
   "source": [
    "Al usar el rating de los usuarios como feedback implicito, los resultados se ven bien. Intenta cambiando la variable `movie_of_interest`."
   ]
  },
  {
   "cell_type": "markdown",
   "metadata": {},
   "source": [
    "### Paso 5: Generando las recomendaciones del usuario\n",
    "\n",
    "Una caracteristica interesante de `implicit` es que puedes obtener recomendaciones personalizadas para un usuario determinado. Intentemos ver los resultados con un usuario especifico de nuestro dataset."
   ]
  },
  {
   "cell_type": "code",
   "execution_count": 15,
   "metadata": {},
   "outputs": [],
   "source": [
    "user_id = 90"
   ]
  },
  {
   "cell_type": "code",
   "execution_count": 16,
   "metadata": {},
   "outputs": [
    {
     "name": "stdout",
     "output_type": "stream",
     "text": [
      "El numero de peliculas rankeadas por el usuario 90 es de: 9025\n"
     ]
    }
   ],
   "source": [
    "#user_ratings = ratings[ratings['userId']==user_id].merge(movies[['movieId', 'title']])\n",
    "user_ratings = df\n",
    "user_ratings = user_ratings.sort_values('rating', ascending=False)\n",
    "print(f\"El numero de peliculas rankeadas por el usuario {user_id} es de: {user_ratings['movieId'].nunique()}\")"
   ]
  },
  {
   "cell_type": "markdown",
   "metadata": {},
   "source": [
    "En este caso vemos que el usuario 90 miro 54 peliculas y el rating de su favoritas son:"
   ]
  },
  {
   "cell_type": "code",
   "execution_count": 17,
   "metadata": {},
   "outputs": [
    {
     "data": {
      "text/html": [
       "<div>\n",
       "<style scoped>\n",
       "    .dataframe tbody tr th:only-of-type {\n",
       "        vertical-align: middle;\n",
       "    }\n",
       "\n",
       "    .dataframe tbody tr th {\n",
       "        vertical-align: top;\n",
       "    }\n",
       "\n",
       "    .dataframe thead th {\n",
       "        text-align: right;\n",
       "    }\n",
       "</style>\n",
       "<table border=\"1\" class=\"dataframe\">\n",
       "  <thead>\n",
       "    <tr style=\"text-align: right;\">\n",
       "      <th></th>\n",
       "      <th>userId</th>\n",
       "      <th>movieId</th>\n",
       "      <th>rating</th>\n",
       "      <th>timestamp</th>\n",
       "      <th>title</th>\n",
       "      <th>genres</th>\n",
       "      <th>release_date</th>\n",
       "      <th>year</th>\n",
       "    </tr>\n",
       "  </thead>\n",
       "  <tbody>\n",
       "    <tr>\n",
       "      <th>82559</th>\n",
       "      <td>563</td>\n",
       "      <td>1213</td>\n",
       "      <td>5.0</td>\n",
       "      <td>1397077128</td>\n",
       "      <td>GoodFellas</td>\n",
       "      <td>[{'id': 18, 'name': 'Drama'}, {'id': 80, 'name...</td>\n",
       "      <td>12/09/1990</td>\n",
       "      <td>1990</td>\n",
       "    </tr>\n",
       "    <tr>\n",
       "      <th>59250</th>\n",
       "      <td>430</td>\n",
       "      <td>4616</td>\n",
       "      <td>5.0</td>\n",
       "      <td>1111579241</td>\n",
       "      <td>Lean On Me</td>\n",
       "      <td>[{'id': 18, 'name': 'Drama'}]</td>\n",
       "      <td>03/03/1989</td>\n",
       "      <td>1989</td>\n",
       "    </tr>\n",
       "    <tr>\n",
       "      <th>19797</th>\n",
       "      <td>132</td>\n",
       "      <td>6003</td>\n",
       "      <td>5.0</td>\n",
       "      <td>1296286136</td>\n",
       "      <td>No disponible</td>\n",
       "      <td>[{'id': 35, 'name': 'Comedy'}, {'id': 80, 'nam...</td>\n",
       "      <td>30/12/2002</td>\n",
       "      <td>2002</td>\n",
       "    </tr>\n",
       "    <tr>\n",
       "      <th>19796</th>\n",
       "      <td>132</td>\n",
       "      <td>5971</td>\n",
       "      <td>5.0</td>\n",
       "      <td>1284797310</td>\n",
       "      <td>My Neighbor Totoro</td>\n",
       "      <td>[{'id': 14, 'name': 'Fantasy'}, {'id': 16, 'na...</td>\n",
       "      <td>16/04/1988</td>\n",
       "      <td>1988</td>\n",
       "    </tr>\n",
       "    <tr>\n",
       "      <th>87679</th>\n",
       "      <td>585</td>\n",
       "      <td>541</td>\n",
       "      <td>5.0</td>\n",
       "      <td>975364896</td>\n",
       "      <td>Blade Runner</td>\n",
       "      <td>[{'id': 878, 'name': 'Science Fiction'}, {'id'...</td>\n",
       "      <td>25/06/1982</td>\n",
       "      <td>1982</td>\n",
       "    </tr>\n",
       "  </tbody>\n",
       "</table>\n",
       "</div>"
      ],
      "text/plain": [
       "       userId  movieId  rating   timestamp               title  \\\n",
       "82559     563     1213     5.0  1397077128          GoodFellas   \n",
       "59250     430     4616     5.0  1111579241          Lean On Me   \n",
       "19797     132     6003     5.0  1296286136       No disponible   \n",
       "19796     132     5971     5.0  1284797310  My Neighbor Totoro   \n",
       "87679     585      541     5.0   975364896        Blade Runner   \n",
       "\n",
       "                                                  genres release_date  year  \n",
       "82559  [{'id': 18, 'name': 'Drama'}, {'id': 80, 'name...   12/09/1990  1990  \n",
       "59250                      [{'id': 18, 'name': 'Drama'}]   03/03/1989  1989  \n",
       "19797  [{'id': 35, 'name': 'Comedy'}, {'id': 80, 'nam...   30/12/2002  2002  \n",
       "19796  [{'id': 14, 'name': 'Fantasy'}, {'id': 16, 'na...   16/04/1988  1988  \n",
       "87679  [{'id': 878, 'name': 'Science Fiction'}, {'id'...   25/06/1982  1982  "
      ]
     },
     "execution_count": 17,
     "metadata": {},
     "output_type": "execute_result"
    }
   ],
   "source": [
    "#user_ratings = ratings[ratings['userId']==user_id].merge(movies[['movieId', 'title']])\n",
    "user_ratings = df\n",
    "user_ratings = user_ratings.sort_values('rating', ascending=False)\n",
    "top_5 = user_ratings.head()\n",
    "top_5"
   ]
  },
  {
   "cell_type": "markdown",
   "metadata": {},
   "source": [
    "Las peliculas con el menor rating son:"
   ]
  },
  {
   "cell_type": "code",
   "execution_count": 18,
   "metadata": {},
   "outputs": [
    {
     "data": {
      "text/html": [
       "<div>\n",
       "<style scoped>\n",
       "    .dataframe tbody tr th:only-of-type {\n",
       "        vertical-align: middle;\n",
       "    }\n",
       "\n",
       "    .dataframe tbody tr th {\n",
       "        vertical-align: top;\n",
       "    }\n",
       "\n",
       "    .dataframe thead th {\n",
       "        text-align: right;\n",
       "    }\n",
       "</style>\n",
       "<table border=\"1\" class=\"dataframe\">\n",
       "  <thead>\n",
       "    <tr style=\"text-align: right;\">\n",
       "      <th></th>\n",
       "      <th>userId</th>\n",
       "      <th>movieId</th>\n",
       "      <th>rating</th>\n",
       "      <th>timestamp</th>\n",
       "      <th>title</th>\n",
       "      <th>genres</th>\n",
       "      <th>release_date</th>\n",
       "      <th>year</th>\n",
       "    </tr>\n",
       "  </thead>\n",
       "  <tbody>\n",
       "    <tr>\n",
       "      <th>85254</th>\n",
       "      <td>574</td>\n",
       "      <td>2383</td>\n",
       "      <td>0.5</td>\n",
       "      <td>1232809499</td>\n",
       "      <td>Police Academy 6: City Under Siege</td>\n",
       "      <td>[{'id': 35, 'name': 'Comedy'}, {'id': 80, 'nam...</td>\n",
       "      <td>09/03/1989</td>\n",
       "      <td>1989</td>\n",
       "    </tr>\n",
       "    <tr>\n",
       "      <th>5022</th>\n",
       "      <td>29</td>\n",
       "      <td>2942</td>\n",
       "      <td>0.5</td>\n",
       "      <td>1313925693</td>\n",
       "      <td>Flashdance</td>\n",
       "      <td>[{'id': 18, 'name': 'Drama'}, {'id': 10402, 'n...</td>\n",
       "      <td>14/04/1983</td>\n",
       "      <td>1983</td>\n",
       "    </tr>\n",
       "    <tr>\n",
       "      <th>5024</th>\n",
       "      <td>29</td>\n",
       "      <td>2367</td>\n",
       "      <td>0.5</td>\n",
       "      <td>1313925185</td>\n",
       "      <td>King Kong</td>\n",
       "      <td>[{'id': 12, 'name': 'Adventure'}, {'id': 18, '...</td>\n",
       "      <td>08/09/1976</td>\n",
       "      <td>1976</td>\n",
       "    </tr>\n",
       "    <tr>\n",
       "      <th>5026</th>\n",
       "      <td>29</td>\n",
       "      <td>1681</td>\n",
       "      <td>0.5</td>\n",
       "      <td>1313925259</td>\n",
       "      <td>Mortal Kombat: Annihilation</td>\n",
       "      <td>[{'id': 28, 'name': 'Action'}, {'id': 14, 'nam...</td>\n",
       "      <td>21/11/1997</td>\n",
       "      <td>1997</td>\n",
       "    </tr>\n",
       "    <tr>\n",
       "      <th>13502</th>\n",
       "      <td>88</td>\n",
       "      <td>1517</td>\n",
       "      <td>0.5</td>\n",
       "      <td>1239767713</td>\n",
       "      <td>Austin Powers: International Man of Mystery</td>\n",
       "      <td>[{'id': 878, 'name': 'Science Fiction'}, {'id'...</td>\n",
       "      <td>02/05/1997</td>\n",
       "      <td>1997</td>\n",
       "    </tr>\n",
       "  </tbody>\n",
       "</table>\n",
       "</div>"
      ],
      "text/plain": [
       "       userId  movieId  rating   timestamp  \\\n",
       "85254     574     2383     0.5  1232809499   \n",
       "5022       29     2942     0.5  1313925693   \n",
       "5024       29     2367     0.5  1313925185   \n",
       "5026       29     1681     0.5  1313925259   \n",
       "13502      88     1517     0.5  1239767713   \n",
       "\n",
       "                                             title  \\\n",
       "85254           Police Academy 6: City Under Siege   \n",
       "5022                                    Flashdance   \n",
       "5024                                     King Kong   \n",
       "5026                   Mortal Kombat: Annihilation   \n",
       "13502  Austin Powers: International Man of Mystery   \n",
       "\n",
       "                                                  genres release_date  year  \n",
       "85254  [{'id': 35, 'name': 'Comedy'}, {'id': 80, 'nam...   09/03/1989  1989  \n",
       "5022   [{'id': 18, 'name': 'Drama'}, {'id': 10402, 'n...   14/04/1983  1983  \n",
       "5024   [{'id': 12, 'name': 'Adventure'}, {'id': 18, '...   08/09/1976  1976  \n",
       "5026   [{'id': 28, 'name': 'Action'}, {'id': 14, 'nam...   21/11/1997  1997  \n",
       "13502  [{'id': 878, 'name': 'Science Fiction'}, {'id'...   02/05/1997  1997  "
      ]
     },
     "execution_count": 18,
     "metadata": {},
     "output_type": "execute_result"
    }
   ],
   "source": [
    "bottom_5 = user_ratings[user_ratings['rating']<5].tail()\n",
    "bottom_5"
   ]
  },
  {
   "cell_type": "markdown",
   "metadata": {},
   "source": [
    "A partir de las preferencias anteriores, podemos inferir algo acerca del usuario 90. Veamos que recomendaciones se pueden generar para este usuario en particular.\n",
    "\n",
    "Utilizaremos `recommend()` que utiliza el indice del usuario y lo transpone con la matriz user-item."
   ]
  },
  {
   "cell_type": "code",
   "execution_count": 19,
   "metadata": {},
   "outputs": [
    {
     "data": {
      "text/plain": [
       "(array([ 441,   87,  647,    6, 1127,  649,   58,  658,  962,  340]),\n",
       " array([0.8710942 , 0.8186082 , 0.79213536, 0.782732  , 0.7740252 ,\n",
       "        0.74823076, 0.7037704 , 0.7027069 , 0.6924297 , 0.6856322 ],\n",
       "       dtype=float32))"
      ]
     },
     "execution_count": 19,
     "metadata": {},
     "output_type": "execute_result"
    }
   ],
   "source": [
    "X_t = X.T.tocsr()\n",
    "user_idx = user_mapper[user_id]\n",
    "recommendations = model.recommend(user_idx, X_t[user_idx])\n",
    "recommendations"
   ]
  },
  {
   "cell_type": "markdown",
   "metadata": {},
   "source": [
    "No podemos interpretar los resultados obtenidos pues estan listados los indices. Hagamos una conversion del indice al titulo de las peliculas recomendadas."
   ]
  },
  {
   "cell_type": "code",
   "execution_count": 20,
   "metadata": {},
   "outputs": [
    {
     "name": "stdout",
     "output_type": "stream",
     "text": [
      "Executive Decision\n",
      "Broken Arrow\n",
      "Eraser\n",
      "Sabrina\n",
      "Jerry Maguire\n",
      "The Nutty Professor\n",
      "Mr. Holland's Opus\n",
      "A Time to Kill\n",
      "Return of the Jedi\n",
      "The River Wild\n"
     ]
    }
   ],
   "source": [
    "for t, r in zip(recommendations[0], recommendations[1]):\n",
    "    recommended_title = get_movie_title(t)\n",
    "    print(recommended_title)"
   ]
  },
  {
   "cell_type": "markdown",
   "metadata": {},
   "source": [
    "Que podemos decir acerca de las recomendaciones para este usuario?\n",
    "\n",
    "Intentemos con otro usuario y analicemos los resultados obtenidos."
   ]
  }
 ],
 "metadata": {
  "kernelspec": {
   "display_name": "Python 3 (ipykernel)",
   "language": "python",
   "name": "python3"
  },
  "language_info": {
   "codemirror_mode": {
    "name": "ipython",
    "version": 3
   },
   "file_extension": ".py",
   "mimetype": "text/x-python",
   "name": "python",
   "nbconvert_exporter": "python",
   "pygments_lexer": "ipython3",
   "version": "3.7.3"
  }
 },
 "nbformat": 4,
 "nbformat_minor": 4
}
