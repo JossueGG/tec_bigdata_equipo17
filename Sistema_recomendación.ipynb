{
  "nbformat": 4,
  "nbformat_minor": 0,
  "metadata": {
    "colab": {
      "provenance": []
    },
    "kernelspec": {
      "name": "python3",
      "display_name": "Python 3"
    },
    "language_info": {
      "name": "python"
    }
  },
  "cells": [
    {
      "cell_type": "code",
      "execution_count": 19,
      "metadata": {
        "colab": {
          "base_uri": "https://localhost:8080/"
        },
        "id": "XlJ2MCRlijH4",
        "outputId": "da0e0d31-6677-4146-a32d-9a8ce11a5db8"
      },
      "outputs": [
        {
          "output_type": "stream",
          "name": "stdout",
          "text": [
            "Top 2 recomendaciones para el usuario 2 : [3, 1]\n"
          ]
        }
      ],
      "source": [
        "#!pip install scikit-surprise\n",
        "from surprise import Dataset, Reader, SVD\n",
        "import pandas as pd\n",
        "\n",
        "# Carga de datos usuario, producto y su calificación\n",
        "ratings_data = {\n",
        "    'user_id': [1, 1, 2, 2, 3, 3, 3, 4, 4, 4],\n",
        "    'item_id': [1, 2, 3, 4, 1, 2, 3, 1, 2, 3],\n",
        "    'rating': [5, 3, 5, 2, 4, 3, 5, 2, 4, 2]\n",
        "}\n",
        "\n",
        "df = pd.DataFrame(ratings_data)\n",
        "\n",
        "# Rango de las calificaciones\n",
        "reader = Reader(rating_scale=(1, 5))\n",
        "\n",
        "# Creando un df con los datos\n",
        "data = Dataset.load_from_df(df[['user_id', 'item_id', 'rating']], reader)\n",
        "\n",
        "# Entrenamiento SVD\n",
        "trainset = data.build_full_trainset()\n",
        "model = SVD()\n",
        "model.fit(trainset)\n",
        "\n",
        "# Función para obtener las mejores recomendaciones para un usuario dado\n",
        "def get_top_recommendations(user_id, n=2):\n",
        "    items = []\n",
        "    # Obtener todos los ítems que el usuario no ha calificado\n",
        "    items_not_rated_by_user = [item for item in range(1, trainset.n_items + 1)\n",
        "                               if item not in trainset.ur[user_id]]\n",
        "    # Obtener la predicción de calificación para cada ítem no calificado\n",
        "    for item_id in items_not_rated_by_user:\n",
        "        predicted_rating = model.predict(user_id, item_id).est\n",
        "        items.append((item_id, predicted_rating))\n",
        "    # Ordenar las predicciones y devolver las mejores n recomendaciones\n",
        "    top_items = sorted(items, key=lambda x: x[1], reverse=True)[:n]\n",
        "    return [item[0] for item in top_items]\n",
        "\n",
        "###############################################################################\n",
        "# Ejemplo de uso, recomendación para el usuario dado\n",
        "###############################################################################\n",
        "user_id = 2\n",
        "top_recommendations = get_top_recommendations(user_id)\n",
        "print(\"Top 2 recomendaciones para el usuario\", user_id, \":\", top_recommendations)\n"
      ]
    }
  ]
}