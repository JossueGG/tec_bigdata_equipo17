{
 "cells": [
  {
   "cell_type": "markdown",
   "metadata": {},
   "source": [
    "# Parte 2: Trabajando con el problema de arranque en frio de filtrado basado en contenido (Content-Based Filtering)\n",
    "\n",
    "El `filtrado colaborativo` se basa en las interacciones del usuario con los items (user-item) dentro de una matriz de utilidad. El problema reside en que los nuevos usuarios o los elementos que no cuenten con interacciones registradas van a ser ignoradas por el sistema de recomendacion. A esto se le conoce como el problema de \"Arranque en frio\". El filtrado basado en contenido es una manera de atacar este problema al generar recomendaciones en interacciones usuario-item.\n",
    "\n",
    "En el siguiente ejercicio, generaremos recomendaciones tipo item-item utilizando filtrado basado en contenido."
   ]
  },
  {
   "cell_type": "markdown",
   "metadata": {},
   "source": [
    "## The Movies Dataset\n",
    "\n",
    "Acerca del Conjunto de Datos\n",
    "\n",
    "Contexto\n",
    "\n",
    "Estos archivos contienen metadatos para las 45,000 películas enumeradas en el conjunto de datos completo de MovieLens. El conjunto de datos está formado por películas estrenadas hasta julio de 2017. Los puntos de datos incluyen reparto, equipo, palabras clave de la trama, presupuesto, ingresos, carteles, fechas de estreno, idiomas, compañías productoras, países, recuentos de votos de TMDB y promedios de votos.\n",
    "\n",
    "Este conjunto de datos también tiene archivos que contienen 26 millones de calificaciones de 270,000 usuarios para las 45,000 películas. Las calificaciones están en una escala de 1 a 5 y se han obtenido del sitio web oficial de GroupLens.\n",
    "\n",
    "Contenido\n",
    "\n",
    "Este conjunto de datos consta de los siguientes archivos:\n",
    "\n",
    "    movies_metadata.csv: El archivo principal de metadatos de películas. Contiene información sobre 45,000 películas incluidas en el conjunto de datos completo de MovieLens. Las características incluyen carteles, fondos, presupuesto, ingresos, fechas de estreno, idiomas, países y compañías productoras.\n",
    "    keywords.csv: Contiene las palabras clave de la trama de la película para nuestras películas MovieLens. Disponible en forma de objeto JSON stringificado.\n",
    "    credits.csv: Contiene información del reparto y equipo para todas nuestras películas. Disponible en forma de objeto JSON stringificado.\n",
    "    links.csv: El archivo que contiene los identificadores de TMDB y IMDB de todas las películas del conjunto de datos completo de MovieLens.\n",
    "    links_small.csv: Contiene los identificadores de TMDB y IMDB de un pequeño subconjunto de 9,000 películas del conjunto de datos completo.\n",
    "    ratings_small.csv: El subconjunto de 100,000 calificaciones de 700 usuarios en 9,000 películas.\n",
    "\n",
    "Se puede acceder al conjunto de datos completo de MovieLens, que consta de 26 millones de calificaciones y 750,000 aplicaciones de etiquetas de 270,000 usuarios en las 45,000 películas de este conjunto de datos, aquí.\n",
    "\n",
    "Agradecimientos\n",
    "\n",
    "Este conjunto de datos es un conjunto de datos recopilados de TMDB y GroupLens. Los detalles de la película, los créditos y las palabras clave se han recopilado de la API abierta de TMDB. Este producto utiliza la API de TMDb pero no está respaldado ni certificado por TMDb. Su API también brinda acceso a datos sobre muchas películas, actores y actrices adicionales, miembros del equipo y programas de televisión. Puedes probarlo tú mismo aquí.\n",
    "\n",
    "Los enlaces y las calificaciones de las películas se han obtenido del sitio web oficial de GroupLens. Los archivos forman parte del conjunto de datos disponible aquí:\n",
    "\n",
    "https://www.kaggle.com/datasets/rounakbanik/the-movies-dataset"
   ]
  },
  {
   "cell_type": "markdown",
   "metadata": {},
   "source": [
    "### Paso 1: Importar las librerias necesarias\n",
    "\n",
    "Se utiizaran los siguientes paquetes de Python:\n",
    "\n",
    "- [numpy](https://numpy.org/): para calculos cientificos\n",
    "- [pandas](https://pandas.pydata.org/): para manipulacion de dato\n",
    "- [scikit-learn](https://scikit-learn.org/stable/): para funciones de machine learning \n",
    "- [matplotlib](https://matplotlib.org/), [seaborn](https://seaborn.pydata.org/): para visualizacion de datos"
   ]
  },
  {
   "cell_type": "code",
   "execution_count": 1,
   "metadata": {},
   "outputs": [],
   "source": [
    "import numpy as np\n",
    "import pandas as pd\n",
    "import sklearn\n",
    "import matplotlib.pyplot as plt\n",
    "import seaborn as sns\n",
    "import ast\n",
    "from collections import Counter\n",
    "from sklearn.metrics.pairwise import cosine_similarity\n",
    "from fuzzywuzzy import process, fuzz\n",
    "import requests\n",
    "from io import StringIO"
   ]
  },
  {
   "cell_type": "markdown",
   "metadata": {},
   "source": [
    "### Paso 2: Cargando los datos\n",
    "\n",
    "Construiremos nuestro sistema de recomendacion a partir del supuesto de que conocemos muy poco acerca de nuestros usuarios. No contamos con datos suficientes sobre las interacciones con nuestro sistema como para implementar filtrado colaborativo.\n",
    "\n",
    "Exploremos el dataset para conocer su estructura y las propiedades con las que podemos trabajar."
   ]
  },
  {
   "cell_type": "code",
   "execution_count": 2,
   "metadata": {},
   "outputs": [
    {
     "data": {
      "text/html": [
       "<div>\n",
       "<style scoped>\n",
       "    .dataframe tbody tr th:only-of-type {\n",
       "        vertical-align: middle;\n",
       "    }\n",
       "\n",
       "    .dataframe tbody tr th {\n",
       "        vertical-align: top;\n",
       "    }\n",
       "\n",
       "    .dataframe thead th {\n",
       "        text-align: right;\n",
       "    }\n",
       "</style>\n",
       "<table border=\"1\" class=\"dataframe\">\n",
       "  <thead>\n",
       "    <tr style=\"text-align: right;\">\n",
       "      <th></th>\n",
       "      <th>movieId</th>\n",
       "      <th>title</th>\n",
       "      <th>genres</th>\n",
       "      <th>year</th>\n",
       "    </tr>\n",
       "  </thead>\n",
       "  <tbody>\n",
       "    <tr>\n",
       "      <th>0</th>\n",
       "      <td>2294</td>\n",
       "      <td>Antz</td>\n",
       "      <td>Adventure|Animation|Comedy|Family</td>\n",
       "      <td>1998</td>\n",
       "    </tr>\n",
       "    <tr>\n",
       "      <th>1</th>\n",
       "      <td>1405</td>\n",
       "      <td>Beavis and Butt-Head Do America</td>\n",
       "      <td>Animation|Comedy</td>\n",
       "      <td>1996</td>\n",
       "    </tr>\n",
       "    <tr>\n",
       "      <th>2</th>\n",
       "      <td>1287</td>\n",
       "      <td>Ben-Hur</td>\n",
       "      <td>Action|Adventure|Drama|History</td>\n",
       "      <td>1959</td>\n",
       "    </tr>\n",
       "    <tr>\n",
       "      <th>3</th>\n",
       "      <td>3671</td>\n",
       "      <td>Blazing Saddles</td>\n",
       "      <td>Western|Comedy</td>\n",
       "      <td>1974</td>\n",
       "    </tr>\n",
       "    <tr>\n",
       "      <th>4</th>\n",
       "      <td>1343</td>\n",
       "      <td>Cape Fear</td>\n",
       "      <td>Crime|Thriller</td>\n",
       "      <td>1991</td>\n",
       "    </tr>\n",
       "  </tbody>\n",
       "</table>\n",
       "</div>"
      ],
      "text/plain": [
       "   movieId                            title  \\\n",
       "0     2294                             Antz   \n",
       "1     1405  Beavis and Butt-Head Do America   \n",
       "2     1287                          Ben-Hur   \n",
       "3     3671                  Blazing Saddles   \n",
       "4     1343                        Cape Fear   \n",
       "\n",
       "                              genres  year  \n",
       "0  Adventure|Animation|Comedy|Family  1998  \n",
       "1                   Animation|Comedy  1996  \n",
       "2     Action|Adventure|Drama|History  1959  \n",
       "3                     Western|Comedy  1974  \n",
       "4                     Crime|Thriller  1991  "
      ]
     },
     "execution_count": 2,
     "metadata": {},
     "output_type": "execute_result"
    }
   ],
   "source": [
    "# permalink:\n",
    "# https://github.com/JossueGG/tec_bigdata_equipo17/blob/ed9d2ade7ae8703c5c3dbdb8df24d8d457fd6547/ratings_small_entrega2.csv\n",
    "\n",
    "# Definir la URL del archivo CSV en GitHub\n",
    "url = 'https://raw.githubusercontent.com/JossueGG/tec_bigdata_equipo17/main/ratings_small_entrega2.csv?token=GHSAT0AAAAAACSA6SWK3XGKAPIOGUDKB2AMZSQ6KKA'\n",
    "\n",
    "# Leer el archivo CSV desde la URL\n",
    "response = requests.get(url)\n",
    "csv_data = StringIO(response.text)\n",
    "df = pd.read_csv(csv_data)\n",
    "\n",
    "# Procesar la columna de géneros\n",
    "def process_genres(genres_str):\n",
    "    try:\n",
    "        genres_list = ast.literal_eval(genres_str)\n",
    "        genres = [genre['name'] for genre in genres_list]\n",
    "        return '|'.join(genres)\n",
    "    except (ValueError, SyntaxError):\n",
    "        return 'No Genre Listed'\n",
    "\n",
    "df['genres'] = df['genres'].apply(process_genres)\n",
    "\n",
    "# Crear un nuevo DataFrame con las columnas deseadas\n",
    "new_df = df[['movieId', 'title', 'genres','year']].drop_duplicates()\n",
    "\n",
    "#movies = pd.read_csv(\"datos/movies.csv\")\n",
    "movies = new_df\n",
    "movies.head()"
   ]
  },
  {
   "cell_type": "markdown",
   "metadata": {},
   "source": [
    "Podemos ver que el dataset cuenta con el id de la pelicula, el titulo, fechas de lanzamiento y los generos asociados a dicha pelicula."
   ]
  },
  {
   "cell_type": "markdown",
   "metadata": {},
   "source": [
    "### Paso 3: Limpieza y Exploracion de los Datos\n",
    "\n",
    "Para este dataset en particular, debemos de limpiar los datos partiendo de las dos siguientes consideraciones:\n",
    "\n",
    "1. Los generos de las peliculas estan expresados en un string separados por un pipe | . Debemos manipular este string en una lista que nos facilitara el analisis de los datos.\n",
    "2. El año se extrae de los datos de la metadata"
   ]
  },
  {
   "cell_type": "markdown",
   "metadata": {},
   "source": [
    "#### Transformando los Generos de un String a una lista\n",
    "\n",
    "\n",
    "Utilizaremos la funcion \"split\" para separar los generos de la columna con el mismo nombre. \n",
    "\n",
    "Por lo que convertiremos este string:\n",
    "\n",
    "`\"Adventure|Children|Fantasy\"`\n",
    "\n",
    "En un arreglo como este:\n",
    "`[Adventure, Children, Fantasy]`."
   ]
  },
  {
   "cell_type": "code",
   "execution_count": 3,
   "metadata": {},
   "outputs": [
    {
     "data": {
      "text/html": [
       "<div>\n",
       "<style scoped>\n",
       "    .dataframe tbody tr th:only-of-type {\n",
       "        vertical-align: middle;\n",
       "    }\n",
       "\n",
       "    .dataframe tbody tr th {\n",
       "        vertical-align: top;\n",
       "    }\n",
       "\n",
       "    .dataframe thead th {\n",
       "        text-align: right;\n",
       "    }\n",
       "</style>\n",
       "<table border=\"1\" class=\"dataframe\">\n",
       "  <thead>\n",
       "    <tr style=\"text-align: right;\">\n",
       "      <th></th>\n",
       "      <th>movieId</th>\n",
       "      <th>title</th>\n",
       "      <th>genres</th>\n",
       "      <th>year</th>\n",
       "    </tr>\n",
       "  </thead>\n",
       "  <tbody>\n",
       "    <tr>\n",
       "      <th>0</th>\n",
       "      <td>2294</td>\n",
       "      <td>Antz</td>\n",
       "      <td>[Adventure, Animation, Comedy, Family]</td>\n",
       "      <td>1998</td>\n",
       "    </tr>\n",
       "    <tr>\n",
       "      <th>1</th>\n",
       "      <td>1405</td>\n",
       "      <td>Beavis and Butt-Head Do America</td>\n",
       "      <td>[Animation, Comedy]</td>\n",
       "      <td>1996</td>\n",
       "    </tr>\n",
       "    <tr>\n",
       "      <th>2</th>\n",
       "      <td>1287</td>\n",
       "      <td>Ben-Hur</td>\n",
       "      <td>[Action, Adventure, Drama, History]</td>\n",
       "      <td>1959</td>\n",
       "    </tr>\n",
       "    <tr>\n",
       "      <th>3</th>\n",
       "      <td>3671</td>\n",
       "      <td>Blazing Saddles</td>\n",
       "      <td>[Western, Comedy]</td>\n",
       "      <td>1974</td>\n",
       "    </tr>\n",
       "    <tr>\n",
       "      <th>4</th>\n",
       "      <td>1343</td>\n",
       "      <td>Cape Fear</td>\n",
       "      <td>[Crime, Thriller]</td>\n",
       "      <td>1991</td>\n",
       "    </tr>\n",
       "  </tbody>\n",
       "</table>\n",
       "</div>"
      ],
      "text/plain": [
       "   movieId                            title  \\\n",
       "0     2294                             Antz   \n",
       "1     1405  Beavis and Butt-Head Do America   \n",
       "2     1287                          Ben-Hur   \n",
       "3     3671                  Blazing Saddles   \n",
       "4     1343                        Cape Fear   \n",
       "\n",
       "                                   genres  year  \n",
       "0  [Adventure, Animation, Comedy, Family]  1998  \n",
       "1                     [Animation, Comedy]  1996  \n",
       "2     [Action, Adventure, Drama, History]  1959  \n",
       "3                       [Western, Comedy]  1974  \n",
       "4                       [Crime, Thriller]  1991  "
      ]
     },
     "execution_count": 3,
     "metadata": {},
     "output_type": "execute_result"
    }
   ],
   "source": [
    "movies['genres'] = movies['genres'].apply(lambda x: x.split(\"|\"))\n",
    "movies.head()"
   ]
  },
  {
   "cell_type": "markdown",
   "metadata": {},
   "source": [
    "#### Calculemos cuantos generos de peliculas contiene el dataset?\n",
    "\n",
    "Al utilizar la funcion de conteo de Python podemos crear un diccionario que contenga el conteo de frecuencias para cada genero en el dataset."
   ]
  },
  {
   "cell_type": "code",
   "execution_count": 4,
   "metadata": {},
   "outputs": [
    {
     "name": "stdout",
     "output_type": "stream",
     "text": [
      "Existen 21 tipos de generos.\n"
     ]
    }
   ],
   "source": [
    "contador_generos = Counter(g for genres in movies['genres'] for g in genres)\n",
    "print(f\"Existen {len(contador_generos)} tipos de generos.\")\n",
    "contador_generos\n",
    "\n",
    "movies = movies[movies['genres']!='(no genres listed)']\n",
    "\n",
    "del contador_generos['(no genres listed)']"
   ]
  },
  {
   "cell_type": "markdown",
   "metadata": {},
   "source": [
    "#### Cuales son los generos de peliculas mas comunes?\n",
    "\n",
    "Utilizaremos el metodo mas comun de `Counter` que es `most_common()` para obtener el listado de generos con asociados a la mayor cantidad de peliculas."
   ]
  },
  {
   "cell_type": "code",
   "execution_count": 5,
   "metadata": {},
   "outputs": [
    {
     "name": "stdout",
     "output_type": "stream",
     "text": [
      "Top 10 de generos de peliculas: \n",
      " [('Drama', 4604), ('Comedy', 3366), ('Thriller', 1997), ('Romance', 1843), ('Action', 1749), ('Crime', 1245), ('Adventure', 1193), ('Horror', 912), ('Science Fiction', 858), ('Family', 857)]\n"
     ]
    }
   ],
   "source": [
    "print(\"Top 10 de generos de peliculas: \\n\", contador_generos.most_common(10))"
   ]
  },
  {
   "cell_type": "code",
   "execution_count": 6,
   "metadata": {},
   "outputs": [
    {
     "data": {
      "image/png": "[encoded data removed]",
      "text/plain": [
       "<Figure size 1000x500 with 1 Axes>"
      ]
     },
     "metadata": {},
     "output_type": "display_data"
    }
   ],
   "source": [
    "genres_counts_df = pd.DataFrame([contador_generos]).T.reset_index()\n",
    "genres_counts_df.columns = ['genres', 'count']\n",
    "genres_counts_df = genres_counts_df.sort_values(by='count', ascending=False)\n",
    "\n",
    "plt.figure(figsize=(10,5))\n",
    "sns.barplot(x='genres', y='count', data=genres_counts_df, palette='rocket')\n",
    "plt.xticks(rotation=90)\n",
    "plt.show()"
   ]
  },
  {
   "cell_type": "markdown",
   "metadata": {},
   "source": [
    "La grafica nos confirma lo que descubrimos anteriormente, `Drama` y `Comedia` son los generos mas populares mientras que los `Westerns`, `Foreing`, and `TV-Movie` son los menos populares."
   ]
  },
  {
   "cell_type": "markdown",
   "metadata": {},
   "source": [
    "#### Cuantos año distintos estan contenidos en nuestro dataset?\n"
   ]
  },
  {
   "cell_type": "code",
   "execution_count": 7,
   "metadata": {},
   "outputs": [
    {
     "name": "stdout",
     "output_type": "stream",
     "text": [
      "Total de años distintos en nuestro dataset: 103\n"
     ]
    }
   ],
   "source": [
    "unique_years = movies['year'].nunique()\n",
    "print(f\"Total de años distintos en nuestro dataset: {unique_years}\")"
   ]
  },
  {
   "cell_type": "markdown",
   "metadata": {},
   "source": [
    "Con este calculo rapido, nos percatamos que contamos con mas de 100 años en nuestro dataset. Lo que podemos hacer ahora es dividir nuestros datos en decadas para tener una idea en general de cuando fueron lanzadas las peliculas de nuestro dataset."
   ]
  },
  {
   "cell_type": "markdown",
   "metadata": {},
   "source": [
    "#### Cual fue la decada mas popular para estrenar una pelicula?\n",
    "\n",
    "Analizemos el dataset para conocer el numero de peliculas contenidas."
   ]
  },
  {
   "cell_type": "code",
   "execution_count": 8,
   "metadata": {},
   "outputs": [
    {
     "name": "stdout",
     "output_type": "stream",
     "text": [
      "Numero total de peliculas en el dataset: 9025\n"
     ]
    }
   ],
   "source": [
    "print(f\"Numero total de peliculas en el dataset: {movies['movieId'].nunique()}\")"
   ]
  },
  {
   "cell_type": "markdown",
   "metadata": {},
   "source": [
    "Ahora limpiemos nuestro dataset al eliminar todas las peliculas que contengan un `null` en el año."
   ]
  },
  {
   "cell_type": "code",
   "execution_count": 9,
   "metadata": {},
   "outputs": [
    {
     "name": "stdout",
     "output_type": "stream",
     "text": [
      "Total de peliculas despues de eliminar aquellas con null en el año:: 9025\n"
     ]
    }
   ],
   "source": [
    "movies = movies[~movies['year'].isnull()]\n",
    "print(f\"Total de peliculas despues de eliminar aquellas con null en el año:: {movies['movieId'].nunique()}\")\n"
   ]
  },
  {
   "cell_type": "markdown",
   "metadata": {},
   "source": [
    "El dataset está completo"
   ]
  },
  {
   "cell_type": "code",
   "execution_count": 10,
   "metadata": {},
   "outputs": [
    {
     "data": {
      "text/plain": [
       "1990"
      ]
     },
     "execution_count": 10,
     "metadata": {},
     "output_type": "execute_result"
    }
   ],
   "source": [
    "x = 1995\n",
    "\n",
    "def calcular_decada(year):\n",
    "    year = str(year)\n",
    "    decade_prefix = year[0:3] # obtener los primeros 3 digitos de un año\n",
    "    decade = f'{decade_prefix}0' # añadir un 0 al final\n",
    "    return int(decade)\n",
    "\n",
    "calcular_decada(x)"
   ]
  },
  {
   "cell_type": "code",
   "execution_count": 11,
   "metadata": {},
   "outputs": [
    {
     "data": {
      "text/plain": [
       "1990"
      ]
     },
     "execution_count": 11,
     "metadata": {},
     "output_type": "execute_result"
    }
   ],
   "source": [
    "def redondear(year):\n",
    "    return year - (year%10)\n",
    "\n",
    "redondear(x)"
   ]
  },
  {
   "cell_type": "markdown",
   "metadata": {},
   "source": [
    "Ambas funciones `calcular_decada()` y `redondear()` cumplen con el objetivo de identificar la decada de un año.\n",
    "\n",
    "Podemos aplicar cualquiera de ellas a todos los años de nuestro dataset `movies` y al mismo tiempo crearemos una columna llamada `decade`.\n"
   ]
  },
  {
   "cell_type": "code",
   "execution_count": 12,
   "metadata": {},
   "outputs": [],
   "source": [
    "movies['decade'] = movies['year'].apply(redondear)"
   ]
  },
  {
   "cell_type": "code",
   "execution_count": 13,
   "metadata": {},
   "outputs": [
    {
     "data": {
      "text/html": [
       "<div>\n",
       "<style scoped>\n",
       "    .dataframe tbody tr th:only-of-type {\n",
       "        vertical-align: middle;\n",
       "    }\n",
       "\n",
       "    .dataframe tbody tr th {\n",
       "        vertical-align: top;\n",
       "    }\n",
       "\n",
       "    .dataframe thead th {\n",
       "        text-align: right;\n",
       "    }\n",
       "</style>\n",
       "<table border=\"1\" class=\"dataframe\">\n",
       "  <thead>\n",
       "    <tr style=\"text-align: right;\">\n",
       "      <th></th>\n",
       "      <th>movieId</th>\n",
       "      <th>title</th>\n",
       "      <th>genres</th>\n",
       "      <th>year</th>\n",
       "      <th>decade</th>\n",
       "    </tr>\n",
       "  </thead>\n",
       "  <tbody>\n",
       "    <tr>\n",
       "      <th>0</th>\n",
       "      <td>2294</td>\n",
       "      <td>Antz</td>\n",
       "      <td>[Adventure, Animation, Comedy, Family]</td>\n",
       "      <td>1998</td>\n",
       "      <td>1990</td>\n",
       "    </tr>\n",
       "    <tr>\n",
       "      <th>1</th>\n",
       "      <td>1405</td>\n",
       "      <td>Beavis and Butt-Head Do America</td>\n",
       "      <td>[Animation, Comedy]</td>\n",
       "      <td>1996</td>\n",
       "      <td>1990</td>\n",
       "    </tr>\n",
       "    <tr>\n",
       "      <th>2</th>\n",
       "      <td>1287</td>\n",
       "      <td>Ben-Hur</td>\n",
       "      <td>[Action, Adventure, Drama, History]</td>\n",
       "      <td>1959</td>\n",
       "      <td>1950</td>\n",
       "    </tr>\n",
       "    <tr>\n",
       "      <th>3</th>\n",
       "      <td>3671</td>\n",
       "      <td>Blazing Saddles</td>\n",
       "      <td>[Western, Comedy]</td>\n",
       "      <td>1974</td>\n",
       "      <td>1970</td>\n",
       "    </tr>\n",
       "    <tr>\n",
       "      <th>4</th>\n",
       "      <td>1343</td>\n",
       "      <td>Cape Fear</td>\n",
       "      <td>[Crime, Thriller]</td>\n",
       "      <td>1991</td>\n",
       "      <td>1990</td>\n",
       "    </tr>\n",
       "    <tr>\n",
       "      <th>...</th>\n",
       "      <td>...</td>\n",
       "      <td>...</td>\n",
       "      <td>...</td>\n",
       "      <td>...</td>\n",
       "      <td>...</td>\n",
       "    </tr>\n",
       "    <tr>\n",
       "      <th>98810</th>\n",
       "      <td>60832</td>\n",
       "      <td>Pathology</td>\n",
       "      <td>[Crime, Horror, Thriller]</td>\n",
       "      <td>2008</td>\n",
       "      <td>2000</td>\n",
       "    </tr>\n",
       "    <tr>\n",
       "      <th>98920</th>\n",
       "      <td>72380</td>\n",
       "      <td>The Box</td>\n",
       "      <td>[Thriller, Science Fiction]</td>\n",
       "      <td>2009</td>\n",
       "      <td>2000</td>\n",
       "    </tr>\n",
       "    <tr>\n",
       "      <th>99295</th>\n",
       "      <td>129</td>\n",
       "      <td>Pie in the Sky</td>\n",
       "      <td>[Comedy, Romance]</td>\n",
       "      <td>1996</td>\n",
       "      <td>1990</td>\n",
       "    </tr>\n",
       "    <tr>\n",
       "      <th>99368</th>\n",
       "      <td>4736</td>\n",
       "      <td>Summer Catch</td>\n",
       "      <td>[Drama, Comedy, Romance]</td>\n",
       "      <td>2001</td>\n",
       "      <td>2000</td>\n",
       "    </tr>\n",
       "    <tr>\n",
       "      <th>99625</th>\n",
       "      <td>6425</td>\n",
       "      <td>The Sixth Man</td>\n",
       "      <td>[Fantasy, Drama, Comedy, Science Fiction]</td>\n",
       "      <td>1997</td>\n",
       "      <td>1990</td>\n",
       "    </tr>\n",
       "  </tbody>\n",
       "</table>\n",
       "<p>9025 rows × 5 columns</p>\n",
       "</div>"
      ],
      "text/plain": [
       "       movieId                            title  \\\n",
       "0         2294                             Antz   \n",
       "1         1405  Beavis and Butt-Head Do America   \n",
       "2         1287                          Ben-Hur   \n",
       "3         3671                  Blazing Saddles   \n",
       "4         1343                        Cape Fear   \n",
       "...        ...                              ...   \n",
       "98810    60832                        Pathology   \n",
       "98920    72380                          The Box   \n",
       "99295      129                   Pie in the Sky   \n",
       "99368     4736                     Summer Catch   \n",
       "99625     6425                    The Sixth Man   \n",
       "\n",
       "                                          genres  year  decade  \n",
       "0         [Adventure, Animation, Comedy, Family]  1998    1990  \n",
       "1                            [Animation, Comedy]  1996    1990  \n",
       "2            [Action, Adventure, Drama, History]  1959    1950  \n",
       "3                              [Western, Comedy]  1974    1970  \n",
       "4                              [Crime, Thriller]  1991    1990  \n",
       "...                                          ...   ...     ...  \n",
       "98810                  [Crime, Horror, Thriller]  2008    2000  \n",
       "98920                [Thriller, Science Fiction]  2009    2000  \n",
       "99295                          [Comedy, Romance]  1996    1990  \n",
       "99368                   [Drama, Comedy, Romance]  2001    2000  \n",
       "99625  [Fantasy, Drama, Comedy, Science Fiction]  1997    1990  \n",
       "\n",
       "[9025 rows x 5 columns]"
      ]
     },
     "execution_count": 13,
     "metadata": {},
     "output_type": "execute_result"
    }
   ],
   "source": [
    "movies"
   ]
  },
  {
   "cell_type": "markdown",
   "metadata": {},
   "source": [
    "### Paso 4: Transformando los datos\n",
    "\n",
    "Para construir un sistema de recomendacion con filtrado basado en contenido necesitamos preparar nuestro dataset de forma tal que las filas representen las peliculas y las columnas las caracteristicas (generos y decadas)\n",
    "\n",
    "\n",
    "Primero, debemos manipular la columna de `generos` de forma tal que cada genero sea representado por una caracteristica binaria (1 si pertenece a un determinado genero, 0 si no pertenece)"
   ]
  },
  {
   "cell_type": "code",
   "execution_count": 14,
   "metadata": {},
   "outputs": [],
   "source": [
    "genres = list(contador_generos.keys())\n",
    "\n",
    "for g in genres:\n",
    "    movies[g] = movies['genres'].transform(lambda x: int(g in x))"
   ]
  },
  {
   "cell_type": "markdown",
   "metadata": {},
   "source": [
    "Analizando la estructura de los datos se desplieguan de la siguiente manera:"
   ]
  },
  {
   "cell_type": "code",
   "execution_count": 15,
   "metadata": {},
   "outputs": [
    {
     "data": {
      "text/html": [
       "<div>\n",
       "<style scoped>\n",
       "    .dataframe tbody tr th:only-of-type {\n",
       "        vertical-align: middle;\n",
       "    }\n",
       "\n",
       "    .dataframe tbody tr th {\n",
       "        vertical-align: top;\n",
       "    }\n",
       "\n",
       "    .dataframe thead th {\n",
       "        text-align: right;\n",
       "    }\n",
       "</style>\n",
       "<table border=\"1\" class=\"dataframe\">\n",
       "  <thead>\n",
       "    <tr style=\"text-align: right;\">\n",
       "      <th></th>\n",
       "      <th>Adventure</th>\n",
       "      <th>Animation</th>\n",
       "      <th>Comedy</th>\n",
       "      <th>Family</th>\n",
       "      <th>Action</th>\n",
       "      <th>Drama</th>\n",
       "      <th>History</th>\n",
       "      <th>Western</th>\n",
       "      <th>Crime</th>\n",
       "      <th>Thriller</th>\n",
       "      <th>...</th>\n",
       "      <th>Horror</th>\n",
       "      <th>Science Fiction</th>\n",
       "      <th>Mystery</th>\n",
       "      <th>War</th>\n",
       "      <th>Fantasy</th>\n",
       "      <th>Music</th>\n",
       "      <th>Documentary</th>\n",
       "      <th></th>\n",
       "      <th>Foreign</th>\n",
       "      <th>TV Movie</th>\n",
       "    </tr>\n",
       "  </thead>\n",
       "  <tbody>\n",
       "    <tr>\n",
       "      <th>0</th>\n",
       "      <td>1</td>\n",
       "      <td>1</td>\n",
       "      <td>1</td>\n",
       "      <td>1</td>\n",
       "      <td>0</td>\n",
       "      <td>0</td>\n",
       "      <td>0</td>\n",
       "      <td>0</td>\n",
       "      <td>0</td>\n",
       "      <td>0</td>\n",
       "      <td>...</td>\n",
       "      <td>0</td>\n",
       "      <td>0</td>\n",
       "      <td>0</td>\n",
       "      <td>0</td>\n",
       "      <td>0</td>\n",
       "      <td>0</td>\n",
       "      <td>0</td>\n",
       "      <td>0</td>\n",
       "      <td>0</td>\n",
       "      <td>0</td>\n",
       "    </tr>\n",
       "    <tr>\n",
       "      <th>1</th>\n",
       "      <td>0</td>\n",
       "      <td>1</td>\n",
       "      <td>1</td>\n",
       "      <td>0</td>\n",
       "      <td>0</td>\n",
       "      <td>0</td>\n",
       "      <td>0</td>\n",
       "      <td>0</td>\n",
       "      <td>0</td>\n",
       "      <td>0</td>\n",
       "      <td>...</td>\n",
       "      <td>0</td>\n",
       "      <td>0</td>\n",
       "      <td>0</td>\n",
       "      <td>0</td>\n",
       "      <td>0</td>\n",
       "      <td>0</td>\n",
       "      <td>0</td>\n",
       "      <td>0</td>\n",
       "      <td>0</td>\n",
       "      <td>0</td>\n",
       "    </tr>\n",
       "    <tr>\n",
       "      <th>2</th>\n",
       "      <td>1</td>\n",
       "      <td>0</td>\n",
       "      <td>0</td>\n",
       "      <td>0</td>\n",
       "      <td>1</td>\n",
       "      <td>1</td>\n",
       "      <td>1</td>\n",
       "      <td>0</td>\n",
       "      <td>0</td>\n",
       "      <td>0</td>\n",
       "      <td>...</td>\n",
       "      <td>0</td>\n",
       "      <td>0</td>\n",
       "      <td>0</td>\n",
       "      <td>0</td>\n",
       "      <td>0</td>\n",
       "      <td>0</td>\n",
       "      <td>0</td>\n",
       "      <td>0</td>\n",
       "      <td>0</td>\n",
       "      <td>0</td>\n",
       "    </tr>\n",
       "    <tr>\n",
       "      <th>3</th>\n",
       "      <td>0</td>\n",
       "      <td>0</td>\n",
       "      <td>1</td>\n",
       "      <td>0</td>\n",
       "      <td>0</td>\n",
       "      <td>0</td>\n",
       "      <td>0</td>\n",
       "      <td>1</td>\n",
       "      <td>0</td>\n",
       "      <td>0</td>\n",
       "      <td>...</td>\n",
       "      <td>0</td>\n",
       "      <td>0</td>\n",
       "      <td>0</td>\n",
       "      <td>0</td>\n",
       "      <td>0</td>\n",
       "      <td>0</td>\n",
       "      <td>0</td>\n",
       "      <td>0</td>\n",
       "      <td>0</td>\n",
       "      <td>0</td>\n",
       "    </tr>\n",
       "    <tr>\n",
       "      <th>4</th>\n",
       "      <td>0</td>\n",
       "      <td>0</td>\n",
       "      <td>0</td>\n",
       "      <td>0</td>\n",
       "      <td>0</td>\n",
       "      <td>0</td>\n",
       "      <td>0</td>\n",
       "      <td>0</td>\n",
       "      <td>1</td>\n",
       "      <td>1</td>\n",
       "      <td>...</td>\n",
       "      <td>0</td>\n",
       "      <td>0</td>\n",
       "      <td>0</td>\n",
       "      <td>0</td>\n",
       "      <td>0</td>\n",
       "      <td>0</td>\n",
       "      <td>0</td>\n",
       "      <td>0</td>\n",
       "      <td>0</td>\n",
       "      <td>0</td>\n",
       "    </tr>\n",
       "  </tbody>\n",
       "</table>\n",
       "<p>5 rows × 21 columns</p>\n",
       "</div>"
      ],
      "text/plain": [
       "   Adventure  Animation  Comedy  Family  Action  Drama  History  Western  \\\n",
       "0          1          1       1       1       0      0        0        0   \n",
       "1          0          1       1       0       0      0        0        0   \n",
       "2          1          0       0       0       1      1        1        0   \n",
       "3          0          0       1       0       0      0        0        1   \n",
       "4          0          0       0       0       0      0        0        0   \n",
       "\n",
       "   Crime  Thriller  ...  Horror  Science Fiction  Mystery  War  Fantasy  \\\n",
       "0      0         0  ...       0                0        0    0        0   \n",
       "1      0         0  ...       0                0        0    0        0   \n",
       "2      0         0  ...       0                0        0    0        0   \n",
       "3      0         0  ...       0                0        0    0        0   \n",
       "4      1         1  ...       0                0        0    0        0   \n",
       "\n",
       "   Music  Documentary     Foreign  TV Movie  \n",
       "0      0            0  0        0         0  \n",
       "1      0            0  0        0         0  \n",
       "2      0            0  0        0         0  \n",
       "3      0            0  0        0         0  \n",
       "4      0            0  0        0         0  \n",
       "\n",
       "[5 rows x 21 columns]"
      ]
     },
     "execution_count": 15,
     "metadata": {},
     "output_type": "execute_result"
    }
   ],
   "source": [
    "movies[genres].head()"
   ]
  },
  {
   "cell_type": "markdown",
   "metadata": {},
   "source": [
    "Con esto comprobamos que los generos se representan como columnas con propiedades binarias. Ahora debemos asignar las distintas decadas a sus columnas correspondientes. Lo realizamos al utilizar la funcion `get_dummies()` de `pandas` al crear variables categoricas en variables binarias."
   ]
  },
  {
   "cell_type": "code",
   "execution_count": 16,
   "metadata": {},
   "outputs": [
    {
     "data": {
      "text/html": [
       "<div>\n",
       "<style scoped>\n",
       "    .dataframe tbody tr th:only-of-type {\n",
       "        vertical-align: middle;\n",
       "    }\n",
       "\n",
       "    .dataframe tbody tr th {\n",
       "        vertical-align: top;\n",
       "    }\n",
       "\n",
       "    .dataframe thead th {\n",
       "        text-align: right;\n",
       "    }\n",
       "</style>\n",
       "<table border=\"1\" class=\"dataframe\">\n",
       "  <thead>\n",
       "    <tr style=\"text-align: right;\">\n",
       "      <th></th>\n",
       "      <th>1900</th>\n",
       "      <th>1910</th>\n",
       "      <th>1920</th>\n",
       "      <th>1930</th>\n",
       "      <th>1940</th>\n",
       "      <th>1950</th>\n",
       "      <th>1960</th>\n",
       "      <th>1970</th>\n",
       "      <th>1980</th>\n",
       "      <th>1990</th>\n",
       "      <th>2000</th>\n",
       "      <th>2010</th>\n",
       "    </tr>\n",
       "  </thead>\n",
       "  <tbody>\n",
       "    <tr>\n",
       "      <th>0</th>\n",
       "      <td>0</td>\n",
       "      <td>0</td>\n",
       "      <td>0</td>\n",
       "      <td>0</td>\n",
       "      <td>0</td>\n",
       "      <td>0</td>\n",
       "      <td>0</td>\n",
       "      <td>0</td>\n",
       "      <td>0</td>\n",
       "      <td>1</td>\n",
       "      <td>0</td>\n",
       "      <td>0</td>\n",
       "    </tr>\n",
       "    <tr>\n",
       "      <th>1</th>\n",
       "      <td>0</td>\n",
       "      <td>0</td>\n",
       "      <td>0</td>\n",
       "      <td>0</td>\n",
       "      <td>0</td>\n",
       "      <td>0</td>\n",
       "      <td>0</td>\n",
       "      <td>0</td>\n",
       "      <td>0</td>\n",
       "      <td>1</td>\n",
       "      <td>0</td>\n",
       "      <td>0</td>\n",
       "    </tr>\n",
       "    <tr>\n",
       "      <th>2</th>\n",
       "      <td>0</td>\n",
       "      <td>0</td>\n",
       "      <td>0</td>\n",
       "      <td>0</td>\n",
       "      <td>0</td>\n",
       "      <td>1</td>\n",
       "      <td>0</td>\n",
       "      <td>0</td>\n",
       "      <td>0</td>\n",
       "      <td>0</td>\n",
       "      <td>0</td>\n",
       "      <td>0</td>\n",
       "    </tr>\n",
       "    <tr>\n",
       "      <th>3</th>\n",
       "      <td>0</td>\n",
       "      <td>0</td>\n",
       "      <td>0</td>\n",
       "      <td>0</td>\n",
       "      <td>0</td>\n",
       "      <td>0</td>\n",
       "      <td>0</td>\n",
       "      <td>1</td>\n",
       "      <td>0</td>\n",
       "      <td>0</td>\n",
       "      <td>0</td>\n",
       "      <td>0</td>\n",
       "    </tr>\n",
       "    <tr>\n",
       "      <th>4</th>\n",
       "      <td>0</td>\n",
       "      <td>0</td>\n",
       "      <td>0</td>\n",
       "      <td>0</td>\n",
       "      <td>0</td>\n",
       "      <td>0</td>\n",
       "      <td>0</td>\n",
       "      <td>0</td>\n",
       "      <td>0</td>\n",
       "      <td>1</td>\n",
       "      <td>0</td>\n",
       "      <td>0</td>\n",
       "    </tr>\n",
       "  </tbody>\n",
       "</table>\n",
       "</div>"
      ],
      "text/plain": [
       "   1900  1910  1920  1930  1940  1950  1960  1970  1980  1990  2000  2010\n",
       "0     0     0     0     0     0     0     0     0     0     1     0     0\n",
       "1     0     0     0     0     0     0     0     0     0     1     0     0\n",
       "2     0     0     0     0     0     1     0     0     0     0     0     0\n",
       "3     0     0     0     0     0     0     0     1     0     0     0     0\n",
       "4     0     0     0     0     0     0     0     0     0     1     0     0"
      ]
     },
     "execution_count": 16,
     "metadata": {},
     "output_type": "execute_result"
    }
   ],
   "source": [
    "movie_decades = pd.get_dummies(movies['decade'])\n",
    "movie_decades.head()"
   ]
  },
  {
   "cell_type": "markdown",
   "metadata": {},
   "source": [
    "Lo siguiente es crear un nuevo dataframe con las propiedades de de decada y genero de las peliculas en `movie_features`. Lo conseguimos al utilizar la funcion `concat` de pandas, al concatenar los generos y las decadas en un solo dataframe."
   ]
  },
  {
   "cell_type": "code",
   "execution_count": 17,
   "metadata": {},
   "outputs": [
    {
     "data": {
      "text/html": [
       "<div>\n",
       "<style scoped>\n",
       "    .dataframe tbody tr th:only-of-type {\n",
       "        vertical-align: middle;\n",
       "    }\n",
       "\n",
       "    .dataframe tbody tr th {\n",
       "        vertical-align: top;\n",
       "    }\n",
       "\n",
       "    .dataframe thead th {\n",
       "        text-align: right;\n",
       "    }\n",
       "</style>\n",
       "<table border=\"1\" class=\"dataframe\">\n",
       "  <thead>\n",
       "    <tr style=\"text-align: right;\">\n",
       "      <th></th>\n",
       "      <th>Adventure</th>\n",
       "      <th>Animation</th>\n",
       "      <th>Comedy</th>\n",
       "      <th>Family</th>\n",
       "      <th>Action</th>\n",
       "      <th>Drama</th>\n",
       "      <th>History</th>\n",
       "      <th>Western</th>\n",
       "      <th>Crime</th>\n",
       "      <th>Thriller</th>\n",
       "      <th>...</th>\n",
       "      <th>1920</th>\n",
       "      <th>1930</th>\n",
       "      <th>1940</th>\n",
       "      <th>1950</th>\n",
       "      <th>1960</th>\n",
       "      <th>1970</th>\n",
       "      <th>1980</th>\n",
       "      <th>1990</th>\n",
       "      <th>2000</th>\n",
       "      <th>2010</th>\n",
       "    </tr>\n",
       "  </thead>\n",
       "  <tbody>\n",
       "    <tr>\n",
       "      <th>0</th>\n",
       "      <td>1</td>\n",
       "      <td>1</td>\n",
       "      <td>1</td>\n",
       "      <td>1</td>\n",
       "      <td>0</td>\n",
       "      <td>0</td>\n",
       "      <td>0</td>\n",
       "      <td>0</td>\n",
       "      <td>0</td>\n",
       "      <td>0</td>\n",
       "      <td>...</td>\n",
       "      <td>0</td>\n",
       "      <td>0</td>\n",
       "      <td>0</td>\n",
       "      <td>0</td>\n",
       "      <td>0</td>\n",
       "      <td>0</td>\n",
       "      <td>0</td>\n",
       "      <td>1</td>\n",
       "      <td>0</td>\n",
       "      <td>0</td>\n",
       "    </tr>\n",
       "    <tr>\n",
       "      <th>1</th>\n",
       "      <td>0</td>\n",
       "      <td>1</td>\n",
       "      <td>1</td>\n",
       "      <td>0</td>\n",
       "      <td>0</td>\n",
       "      <td>0</td>\n",
       "      <td>0</td>\n",
       "      <td>0</td>\n",
       "      <td>0</td>\n",
       "      <td>0</td>\n",
       "      <td>...</td>\n",
       "      <td>0</td>\n",
       "      <td>0</td>\n",
       "      <td>0</td>\n",
       "      <td>0</td>\n",
       "      <td>0</td>\n",
       "      <td>0</td>\n",
       "      <td>0</td>\n",
       "      <td>1</td>\n",
       "      <td>0</td>\n",
       "      <td>0</td>\n",
       "    </tr>\n",
       "    <tr>\n",
       "      <th>2</th>\n",
       "      <td>1</td>\n",
       "      <td>0</td>\n",
       "      <td>0</td>\n",
       "      <td>0</td>\n",
       "      <td>1</td>\n",
       "      <td>1</td>\n",
       "      <td>1</td>\n",
       "      <td>0</td>\n",
       "      <td>0</td>\n",
       "      <td>0</td>\n",
       "      <td>...</td>\n",
       "      <td>0</td>\n",
       "      <td>0</td>\n",
       "      <td>0</td>\n",
       "      <td>1</td>\n",
       "      <td>0</td>\n",
       "      <td>0</td>\n",
       "      <td>0</td>\n",
       "      <td>0</td>\n",
       "      <td>0</td>\n",
       "      <td>0</td>\n",
       "    </tr>\n",
       "    <tr>\n",
       "      <th>3</th>\n",
       "      <td>0</td>\n",
       "      <td>0</td>\n",
       "      <td>1</td>\n",
       "      <td>0</td>\n",
       "      <td>0</td>\n",
       "      <td>0</td>\n",
       "      <td>0</td>\n",
       "      <td>1</td>\n",
       "      <td>0</td>\n",
       "      <td>0</td>\n",
       "      <td>...</td>\n",
       "      <td>0</td>\n",
       "      <td>0</td>\n",
       "      <td>0</td>\n",
       "      <td>0</td>\n",
       "      <td>0</td>\n",
       "      <td>1</td>\n",
       "      <td>0</td>\n",
       "      <td>0</td>\n",
       "      <td>0</td>\n",
       "      <td>0</td>\n",
       "    </tr>\n",
       "    <tr>\n",
       "      <th>4</th>\n",
       "      <td>0</td>\n",
       "      <td>0</td>\n",
       "      <td>0</td>\n",
       "      <td>0</td>\n",
       "      <td>0</td>\n",
       "      <td>0</td>\n",
       "      <td>0</td>\n",
       "      <td>0</td>\n",
       "      <td>1</td>\n",
       "      <td>1</td>\n",
       "      <td>...</td>\n",
       "      <td>0</td>\n",
       "      <td>0</td>\n",
       "      <td>0</td>\n",
       "      <td>0</td>\n",
       "      <td>0</td>\n",
       "      <td>0</td>\n",
       "      <td>0</td>\n",
       "      <td>1</td>\n",
       "      <td>0</td>\n",
       "      <td>0</td>\n",
       "    </tr>\n",
       "  </tbody>\n",
       "</table>\n",
       "<p>5 rows × 33 columns</p>\n",
       "</div>"
      ],
      "text/plain": [
       "   Adventure  Animation  Comedy  Family  Action  Drama  History  Western  \\\n",
       "0          1          1       1       1       0      0        0        0   \n",
       "1          0          1       1       0       0      0        0        0   \n",
       "2          1          0       0       0       1      1        1        0   \n",
       "3          0          0       1       0       0      0        0        1   \n",
       "4          0          0       0       0       0      0        0        0   \n",
       "\n",
       "   Crime  Thriller  ...  1920  1930  1940  1950  1960  1970  1980  1990  2000  \\\n",
       "0      0         0  ...     0     0     0     0     0     0     0     1     0   \n",
       "1      0         0  ...     0     0     0     0     0     0     0     1     0   \n",
       "2      0         0  ...     0     0     0     1     0     0     0     0     0   \n",
       "3      0         0  ...     0     0     0     0     0     1     0     0     0   \n",
       "4      1         1  ...     0     0     0     0     0     0     0     1     0   \n",
       "\n",
       "   2010  \n",
       "0     0  \n",
       "1     0  \n",
       "2     0  \n",
       "3     0  \n",
       "4     0  \n",
       "\n",
       "[5 rows x 33 columns]"
      ]
     },
     "execution_count": 17,
     "metadata": {},
     "output_type": "execute_result"
    }
   ],
   "source": [
    "movie_features = pd.concat([movies[genres], movie_decades], axis=1)\n",
    "movie_features.head()"
   ]
  },
  {
   "cell_type": "markdown",
   "metadata": {},
   "source": [
    "El dataframe `movie_features` esta listo y contiene los datos que nos interesan. Ahora debemos de construir nuestro sistema de recomendacion."
   ]
  },
  {
   "cell_type": "markdown",
   "metadata": {},
   "source": [
    "### Step 5: Construyendo un sistema de recomendacion de \"Peliculas Parecidas\" utilizando similitud Coseno\n",
    "\n",
    "Para construir este sistema de recomendacion item-item utilizaremos una metrica llamada similitud coseno `cosine similarity`.\n",
    "\n",
    "La similitud Coseno se basa en el coseno del angulo entre dos vectores (c.e., $A$ y $B$). Entre mas pequeño es el angulo, mayor es la similitud entre los vectores, y se calcula de la siguiente forma:\n",
    "\n",
    "$$\\cos(\\theta) = \\frac{A\\cdot B}{||A|| ||B||}$$\n",
    "\n",
    "En este ejercicio, utilizaremos la funcion de scikit-learn de `cosine_similarity` para generar la matriz de similitud de tipo $(n_{\\text{movies}}, n_{\\text{movies}})$. Esta matriz nos permitira extraer peliculas que sean parecidas a nuestra pelicula de interes."
   ]
  },
  {
   "cell_type": "code",
   "execution_count": 18,
   "metadata": {},
   "outputs": [
    {
     "name": "stdout",
     "output_type": "stream",
     "text": [
      "Las dimensiones de similaridad coseno de las caracteristicas de nuestra matriz de similitud son: (9025, 9025)\n"
     ]
    }
   ],
   "source": [
    "cosine_sim = cosine_similarity(movie_features, movie_features)\n",
    "print(f\"Las dimensiones de similaridad coseno de las caracteristicas de nuestra matriz de similitud son: {cosine_sim.shape}\")"
   ]
  },
  {
   "cell_type": "markdown",
   "metadata": {},
   "source": [
    "Esto nos indica que al evaluar la similitud de coseno del dataframe `movie_features` en la funcion `cosine_similarity()` obtenemos una matriz de similitud del tipo $(n_{\\text{movies}}, n_{\\text{movies}})$.\n",
    "\n",
    "Esta matriz contiene valores entre 0 y 1 que representan el angulo de similaridad entre las peliculas en los ejes x , y.\n"
   ]
  },
  {
   "cell_type": "markdown",
   "metadata": {},
   "source": [
    "### Desarrollando una funcion que encuentre peliculas similares\n",
    "\n",
    "Si por ejemplo queremos encontrar peliculas que sean similares a `Antz` en nuestro sistema de recomendacion, necesitamos saber el titulo de una pelicula en nuestro dataset.\n",
    "\n",
    "Afortunadamente la pelicula esta listada como `'Antz'`. Sin embargo, si deletreamos mal el nombre u olvidamos incluir el año de su lanzamiento, el sistema no sabra que pelicula es a la que nos estamos refiriendo.\n",
    "\n",
    "Con el fin de que nuestro sistema sea mas amigable para el usuario, utilizaremos un paquete llamado `fuzzywuzzy` que nos ayudara a encontrar el titulo de la pelicula mas parecido a partir del string que le pasemos. \n",
    "\n",
    "Con base en esto, crearemos una funcion que se llame `encuentra_pelicula()` que implementa el algoritmo de matching de strings de `fuzzywuzzy` para hallar el titulo mas parecido a partir de un string ingresado por el usuario."
   ]
  },
  {
   "cell_type": "code",
   "execution_count": 19,
   "metadata": {},
   "outputs": [],
   "source": [
    "def encuentra_pelicula(title):\n",
    "    all_titles = movies['title'].tolist()\n",
    "    closest_match = process.extractOne(title,all_titles)\n",
    "    return closest_match[0]"
   ]
  },
  {
   "cell_type": "code",
   "execution_count": 20,
   "metadata": {},
   "outputs": [],
   "source": [
    "# def encuentra_pelicula(title, threshold=95):\n",
    "#     all_titles = movies['title'].tolist()\n",
    "    \n",
    "#     # Uso de token_set_ratio para buscar la mejor coincidencia\n",
    "#     best_match = process.extractOne(title, all_titles, scorer=fuzz.token_set_ratio)\n",
    "    \n",
    "#     if best_match[1] >= threshold:\n",
    "#         return best_match[0]\n",
    "#     else:\n",
    "#         return \"No se encontró una coincidencia adecuada\"\n",
    "\n",
    "# # Probar con el título \"Ants\"\n",
    "# title = encuentra_pelicula('Ants')\n",
    "# print(f\"El título correcto de la película es: {title}\")"
   ]
  },
  {
   "cell_type": "markdown",
   "metadata": {},
   "source": [
    "Probemos la funcionalidad de la funcion `encuentra_pelicula()` al escribir equivocadamente la pelicula `Antz`"
   ]
  },
  {
   "cell_type": "code",
   "execution_count": 21,
   "metadata": {},
   "outputs": [
    {
     "name": "stdout",
     "output_type": "stream",
     "text": [
      "El titulo correcto de la pelicula es: The SpongeBob SquarePants Movie\n"
     ]
    }
   ],
   "source": [
    "title = encuentra_pelicula('spongeBob')\n",
    "print(f\"El titulo correcto de la pelicula es: {title}\")"
   ]
  },
  {
   "cell_type": "markdown",
   "metadata": {},
   "source": [
    "Ahora que ya no nos preocupamos por escribir mal el titulo de una pelicula, lo que nos interesa es encontrar recomendaciones relevantes a partir de la pelicula que deseamos.\n",
    "\n",
    "Deseamos encontrar el indice de la pelicula en la matriz de similitud coseno. Para identificar la fila en la cual debemos buscar podemos crear un mapeador de indices de peliculas que encuentre el titulo de una pelicula y le asigne el indice que representa en nuestra matriz.\n",
    "\n",
    "Crearemos un diccionario llamado `movie_idx` donde las llaves son los titulos de las peliculas y los valores son los indices de las peliculas."
   ]
  },
  {
   "cell_type": "code",
   "execution_count": 22,
   "metadata": {},
   "outputs": [
    {
     "name": "stdout",
     "output_type": "stream",
     "text": [
      "El indice de la pelicula The SpongeBob SquarePants Movie en la matriz movie_idx es: 2452\n"
     ]
    }
   ],
   "source": [
    "movie_idx = dict(zip(movies['title'], list(movies.index)))\n",
    "idx = movie_idx[title]\n",
    "print(f\"El indice de la pelicula {title} en la matriz movie_idx es: {idx}\")"
   ]
  },
  {
   "cell_type": "markdown",
   "metadata": {},
   "source": [
    "Al usar el diccionario `movie_idx`, sabemos que Jumanji se representa por el indice 1 en nuestra matriz. \n",
    "\n",
    "Ahora tratemos de encontrar las 10 peliculas mas similares a Jumanji."
   ]
  },
  {
   "cell_type": "code",
   "execution_count": 23,
   "metadata": {},
   "outputs": [],
   "source": [
    "numero_recomendaciones=10\n",
    "sim_scores = list(enumerate(cosine_sim[idx]))\n",
    "sim_scores = sorted(sim_scores, key=lambda x: x[1], reverse=True)\n",
    "sim_scores = sim_scores[1:(numero_recomendaciones+1)]\n",
    "similar_movies = [i[0] for i in sim_scores]"
   ]
  },
  {
   "cell_type": "markdown",
   "metadata": {},
   "source": [
    "`similar_movies` es un arreglo de indices que representa el top 10 de recomendaciones a partir de la pelicula elegida (en este caso Jumanji). Podemos encontrar el titulos de las peliculas correspondientes al crear un mapeador invertido de `movie_idx` o usando `iloc` en la columna de titulo del dataframe `movies`."
   ]
  },
  {
   "cell_type": "code",
   "execution_count": 24,
   "metadata": {},
   "outputs": [
    {
     "name": "stdout",
     "output_type": "stream",
     "text": [
      "Por que miraste la pelicula The SpongeBob SquarePants Movie, te pueden interesar las siguientes 10 peliculas:\n"
     ]
    },
    {
     "data": {
      "text/plain": [
       "1763            Michael Clayton\n",
       "2250               The Deep End\n",
       "4225                      Gerry\n",
       "10726            Gone Baby Gone\n",
       "12760             Paranoid Park\n",
       "12816          The White Ribbon\n",
       "14307                Changeling\n",
       "54304       The Weight of Water\n",
       "90002    Merci pour le Chocolat\n",
       "11591           The Proposition\n",
       "Name: title, dtype: object"
      ]
     },
     "execution_count": 24,
     "metadata": {},
     "output_type": "execute_result"
    }
   ],
   "source": [
    "print(f\"Por que miraste la pelicula {title}, te pueden interesar las siguientes {numero_recomendaciones} peliculas:\")\n",
    "movies['title'].iloc[similar_movies]"
   ]
  },
  {
   "cell_type": "markdown",
   "metadata": {},
   "source": [
    "Podemos probar nuestro sistema con otros titulos de peliculas. "
   ]
  },
  {
   "cell_type": "code",
   "execution_count": 25,
   "metadata": {},
   "outputs": [],
   "source": [
    "def obtener_recomendaciones_basadas_contenido(title_string, numero_recomendaciones=10):\n",
    "    title = encuentra_pelicula(title_string)\n",
    "    idx = movie_idx[title]\n",
    "    sim_scores = list(enumerate(cosine_sim[idx]))\n",
    "    sim_scores = sorted(sim_scores, key=lambda x: x[1], reverse=True)\n",
    "    sim_scores = sim_scores[1:(numero_recomendaciones+1)]\n",
    "    similar_movies = [i[0] for i in sim_scores]\n",
    "    print(f\"Las peliculas recomendadas con base en la pelicula {title} son:\")\n",
    "    print(movies['title'].iloc[similar_movies])"
   ]
  },
  {
   "cell_type": "code",
   "execution_count": 26,
   "metadata": {},
   "outputs": [
    {
     "name": "stdout",
     "output_type": "stream",
     "text": [
      "Las peliculas recomendadas con base en la pelicula Aladdin son:\n",
      "5381                    Hercules\n",
      "9593     All Dogs Go to Heaven 2\n",
      "10232              A Goofy Movie\n",
      "55619           The Book of Life\n",
      "0                           Antz\n",
      "Name: title, dtype: object\n"
     ]
    }
   ],
   "source": [
    "obtener_recomendaciones_basadas_contenido('aladin', 5)"
   ]
  }
 ],
 "metadata": {
  "kernelspec": {
   "display_name": "Python 3 (ipykernel)",
   "language": "python",
   "name": "python3"
  },
  "language_info": {
   "codemirror_mode": {
    "name": "ipython",
    "version": 3
   },
   "file_extension": ".py",
   "mimetype": "text/x-python",
   "name": "python",
   "nbconvert_exporter": "python",
   "pygments_lexer": "ipython3",
   "version": "3.7.3"
  }
 },
 "nbformat": 4,
 "nbformat_minor": 2
}
